{
 "cells": [
  {
   "cell_type": "code",
   "execution_count": 3,
   "id": "32a0cff4-4b1e-4e63-a6fb-a2b0609710c0",
   "metadata": {},
   "outputs": [
    {
     "name": "stdout",
     "output_type": "stream",
     "text": [
      "{\n",
      "    \"cells\": [\n",
      "        {\n",
      "            \"cell_type\": \"code\",\n",
      "            \"execution_count\": null,\n",
      "            \"id\": \"1538914e-5a50-45f8-bc77-a0a81812878e\",\n",
      "            \"metadata\": {},\n",
      "            \"outputs\": [],\n",
      "            \"source\": [\n",
      "                \"{\\n\",\n",
      "                \"    \\\"users\\\": [\\n\",\n",
      "                \"        {\\\"id\\\": 1, \\\"name\\\": \\\"Amit\\\", \\\"friends\\\": [2, 3], \\\"liked_pages\\\": [101]},\\n\",\n",
      "                \"        {\\\"id\\\": 2, \\\"name\\\": \\\"Priya\\\", \\\"friends\\\": [1, 4], \\\"liked_pages\\\": [102]},\\n\",\n",
      "                \"        {\\\"id\\\": 3, \\\"name\\\": \\\"Rahul\\\", \\\"friends\\\": [1], \\\"liked_pages\\\": [101, 103]},\\n\",\n",
      "                \"        {\\\"id\\\": 4, \\\"name\\\": \\\"Sara\\\", \\\"friends\\\": [2], \\\"liked_pages\\\": [104]}\\n\",\n",
      "                \"    ],\\n\",\n",
      "                \"    \\\"pages\\\": [\\n\",\n",
      "                \"        {\\\"id\\\": 101, \\\"name\\\": \\\"Python Developers\\\"},\\n\",\n",
      "                \"        {\\\"id\\\": 102, \\\"name\\\": \\\"Data Science Enthusiasts\\\"},\\n\",\n",
      "                \"        {\\\"id\\\": 103, \\\"name\\\": \\\"AI & ML Community\\\"},\\n\",\n",
      "                \"        {\\\"id\\\": 104, \\\"name\\\": \\\"Web Dev Hub\\\"}\\n\",\n",
      "                \"    ]\\n\",\n",
      "                \"}\"\n",
      "            ]\n",
      "        }\n",
      "    ],\n",
      "    \"metadata\": {\n",
      "        \"kernelspec\": {\n",
      "            \"display_name\": \"Python 3 (ipykernel)\",\n",
      "            \"language\": \"python\",\n",
      "            \"name\": \"python3\"\n",
      "        },\n",
      "        \"language_info\": {\n",
      "            \"codemirror_mode\": {\n",
      "                \"name\": \"ipython\",\n",
      "                \"version\": 3\n",
      "            },\n",
      "            \"file_extension\": \".py\",\n",
      "            \"mimetype\": \"text/x-python\",\n",
      "            \"name\": \"python\",\n",
      "            \"nbconvert_exporter\": \"python\",\n",
      "            \"pygments_lexer\": \"ipython3\",\n",
      "            \"version\": \"3.12.7\"\n",
      "        }\n",
      "    },\n",
      "    \"nbformat\": 4,\n",
      "    \"nbformat_minor\": 5\n",
      "}\n"
     ]
    }
   ],
   "source": [
    "# read and display data using python \n",
    "import json\n",
    "\n",
    "\n",
    "with open(\"data.json\",\"r\") as file:\n",
    "    data = json.load(file)\n",
    "    print(json.dumps(data,indent=4))\n",
    "    "
   ]
  },
  {
   "cell_type": "code",
   "execution_count": 6,
   "id": "6e27da39-c15e-4f10-97d1-2290f03855eb",
   "metadata": {},
   "outputs": [],
   "source": [
    "# Save the JSON data in a file (codebook_data.json).\n",
    "# Read the JSON file using Python.\n",
    "# Print user details and their connections.\n",
    "# Print available pages.\n",
    "\n",
    "# printing user details and their connection \n",
    "\n",
    "def display_users(data):\n",
    "    print(\"Users and Their Connections:\\n\")\n",
    "    for user in data[\"users\"]:\n",
    "        print(f\"{user['name']} (ID: {user['id']}) - Friends: {user['friends']} - Liked Pages: {user['liked_pages']}\")\n",
    "    print(\"\\nPages:\\n\")\n",
    "    for page in data[\"pages\"]:\n",
    "        print(f\"{page['id']}: {page['name']}\")\n",
    "\n",
    "    \n",
    "    \n",
    "\n"
   ]
  },
  {
   "cell_type": "code",
   "execution_count": 7,
   "id": "633504bf-b777-4fb4-8372-1ad6aaf506aa",
   "metadata": {},
   "outputs": [
    {
     "name": "stdout",
     "output_type": "stream",
     "text": [
      "Users and Their Connections:\n",
      "\n"
     ]
    },
    {
     "ename": "KeyError",
     "evalue": "'users'",
     "output_type": "error",
     "traceback": [
      "\u001b[1;31m---------------------------------------------------------------------------\u001b[0m",
      "\u001b[1;31mKeyError\u001b[0m                                  Traceback (most recent call last)",
      "Cell \u001b[1;32mIn[7], line 1\u001b[0m\n\u001b[1;32m----> 1\u001b[0m display_users(data)\n",
      "Cell \u001b[1;32mIn[6], line 10\u001b[0m, in \u001b[0;36mdisplay_users\u001b[1;34m(data)\u001b[0m\n\u001b[0;32m      8\u001b[0m \u001b[38;5;28;01mdef\u001b[39;00m \u001b[38;5;21mdisplay_users\u001b[39m(data):\n\u001b[0;32m      9\u001b[0m     \u001b[38;5;28mprint\u001b[39m(\u001b[38;5;124m\"\u001b[39m\u001b[38;5;124mUsers and Their Connections:\u001b[39m\u001b[38;5;130;01m\\n\u001b[39;00m\u001b[38;5;124m\"\u001b[39m)\n\u001b[1;32m---> 10\u001b[0m     \u001b[38;5;28;01mfor\u001b[39;00m user \u001b[38;5;129;01min\u001b[39;00m data[\u001b[38;5;124m\"\u001b[39m\u001b[38;5;124musers\u001b[39m\u001b[38;5;124m\"\u001b[39m]:\n\u001b[0;32m     11\u001b[0m         \u001b[38;5;28mprint\u001b[39m(\u001b[38;5;124mf\u001b[39m\u001b[38;5;124m\"\u001b[39m\u001b[38;5;132;01m{\u001b[39;00muser[\u001b[38;5;124m'\u001b[39m\u001b[38;5;124mname\u001b[39m\u001b[38;5;124m'\u001b[39m]\u001b[38;5;132;01m}\u001b[39;00m\u001b[38;5;124m (ID: \u001b[39m\u001b[38;5;132;01m{\u001b[39;00muser[\u001b[38;5;124m'\u001b[39m\u001b[38;5;124mid\u001b[39m\u001b[38;5;124m'\u001b[39m]\u001b[38;5;132;01m}\u001b[39;00m\u001b[38;5;124m) - Friends: \u001b[39m\u001b[38;5;132;01m{\u001b[39;00muser[\u001b[38;5;124m'\u001b[39m\u001b[38;5;124mfriends\u001b[39m\u001b[38;5;124m'\u001b[39m]\u001b[38;5;132;01m}\u001b[39;00m\u001b[38;5;124m - Liked Pages: \u001b[39m\u001b[38;5;132;01m{\u001b[39;00muser[\u001b[38;5;124m'\u001b[39m\u001b[38;5;124mliked_pages\u001b[39m\u001b[38;5;124m'\u001b[39m]\u001b[38;5;132;01m}\u001b[39;00m\u001b[38;5;124m\"\u001b[39m)\n\u001b[0;32m     12\u001b[0m     \u001b[38;5;28mprint\u001b[39m(\u001b[38;5;124m\"\u001b[39m\u001b[38;5;130;01m\\n\u001b[39;00m\u001b[38;5;124mPages:\u001b[39m\u001b[38;5;130;01m\\n\u001b[39;00m\u001b[38;5;124m\"\u001b[39m)\n",
      "\u001b[1;31mKeyError\u001b[0m: 'users'"
     ]
    }
   ],
   "source": [
    "display_users(data)"
   ]
  },
  {
   "cell_type": "code",
   "execution_count": null,
   "id": "bba3a938-b110-4717-b9a7-6bd4e82980e9",
   "metadata": {},
   "outputs": [],
   "source": []
  }
 ],
 "metadata": {
  "kernelspec": {
   "display_name": "Python 3 (ipykernel)",
   "language": "python",
   "name": "python3"
  },
  "language_info": {
   "codemirror_mode": {
    "name": "ipython",
    "version": 3
   },
   "file_extension": ".py",
   "mimetype": "text/x-python",
   "name": "python",
   "nbconvert_exporter": "python",
   "pygments_lexer": "ipython3",
   "version": "3.12.7"
  }
 },
 "nbformat": 4,
 "nbformat_minor": 5
}
