{
 "cells": [
  {
   "cell_type": "code",
   "execution_count": 4,
   "id": "eaebb767-e177-4ce7-a35a-f82b63802ef8",
   "metadata": {},
   "outputs": [],
   "source": [
    "import numpy as np \n",
    "from scipy import stats "
   ]
  },
  {
   "cell_type": "code",
   "execution_count": 6,
   "id": "6e364467-2f92-4884-8de7-45986174c4e3",
   "metadata": {},
   "outputs": [],
   "source": [
    "group_A = [85, 88, 90, 92, 87, 85, 89, 91, 86, 88] \n",
    "group_B = [82, 84, 80, 83, 81, 79, 78, 85, 84, 83]  "
   ]
  },
  {
   "cell_type": "code",
   "execution_count": 9,
   "id": "0a3456ed-69f6-4344-b03d-911774fc4c7f",
   "metadata": {},
   "outputs": [],
   "source": [
    "t_stats, p_value = stats.ttest_ind(group_A, group_B, equal_var = False)\n"
   ]
  },
  {
   "cell_type": "code",
   "execution_count": 10,
   "id": "1de7f7cf-4983-4593-ace2-1a4ef2de6bb9",
   "metadata": {},
   "outputs": [
    {
     "data": {
      "text/plain": [
       "5.829604009507161"
      ]
     },
     "execution_count": 10,
     "metadata": {},
     "output_type": "execute_result"
    }
   ],
   "source": [
    "t_stats"
   ]
  },
  {
   "cell_type": "code",
   "execution_count": 12,
   "id": "2f29666e-7a1f-4761-8164-c2f111cc951e",
   "metadata": {},
   "outputs": [],
   "source": [
    "alpha = 0.05"
   ]
  },
  {
   "cell_type": "code",
   "execution_count": 13,
   "id": "ff69655f-8ebf-4722-b424-3825135ea157",
   "metadata": {},
   "outputs": [
    {
     "name": "stdout",
     "output_type": "stream",
     "text": [
      "i will reject the null hypothesis\n"
     ]
    }
   ],
   "source": [
    "if p_value < alpha: \n",
    "    print(\"i will reject the null hypothesis\")\n",
    "else: \n",
    "    print(\"i will accept the null hypothesis\")"
   ]
  },
  {
   "cell_type": "code",
   "execution_count": null,
   "id": "5687cf3f-4746-44f0-a7fb-03b39aa0899b",
   "metadata": {},
   "outputs": [],
   "source": []
  }
 ],
 "metadata": {
  "kernelspec": {
   "display_name": "Python 3 (ipykernel)",
   "language": "python",
   "name": "python3"
  },
  "language_info": {
   "codemirror_mode": {
    "name": "ipython",
    "version": 3
   },
   "file_extension": ".py",
   "mimetype": "text/x-python",
   "name": "python",
   "nbconvert_exporter": "python",
   "pygments_lexer": "ipython3",
   "version": "3.12.7"
  }
 },
 "nbformat": 4,
 "nbformat_minor": 5
}
