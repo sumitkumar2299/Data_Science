{
 "cells": [
  {
   "cell_type": "code",
   "execution_count": null,
   "id": "d2dd5be5-a06c-45cc-94d2-6391995c108a",
   "metadata": {},
   "outputs": [],
   "source": [
    "# t test using p value "
   ]
  },
  {
   "cell_type": "code",
   "execution_count": 3,
   "id": "6b00c6ce-9077-4b81-936d-1a11a0283cce",
   "metadata": {},
   "outputs": [],
   "source": [
    "import numpy as np \n",
    "from scipy import stats "
   ]
  },
  {
   "cell_type": "code",
   "execution_count": 4,
   "id": "60b6ecd6-4e94-4da3-acac-b1dbd2fbe6bf",
   "metadata": {},
   "outputs": [],
   "source": [
    "sample = [172, 174, 168, 169, 171, 173, 175, 170, 169, 172]\n",
    "sample_mean = np.mean(sample)\n",
    "sample_std = np.std(sample,ddof = 1)\n",
    "n = len(sample)\n",
    "mean_population = 170"
   ]
  },
  {
   "cell_type": "code",
   "execution_count": 5,
   "id": "1d84a8e5-c6a3-463f-aa4f-f2349ff9deef",
   "metadata": {},
   "outputs": [
    {
     "data": {
      "text/plain": [
       "1.7782469350914734"
      ]
     },
     "execution_count": 5,
     "metadata": {},
     "output_type": "execute_result"
    }
   ],
   "source": [
    "t_stats = (sample_mean - mean_population) / (sample_std/ np.sqrt(n))\n",
    "t_stats"
   ]
  },
  {
   "cell_type": "code",
   "execution_count": 6,
   "id": "8eaf039f-c8d7-4833-859f-c912daaf4409",
   "metadata": {},
   "outputs": [],
   "source": [
    "p_value = 2*(1-stats.t.cdf(abs(t_stats),df = n-1))\n",
    "alpha = 0.5"
   ]
  },
  {
   "cell_type": "code",
   "execution_count": 7,
   "id": "9d09d097-9dee-4f7b-b971-50f888e3ff49",
   "metadata": {},
   "outputs": [
    {
     "name": "stdout",
     "output_type": "stream",
     "text": [
      "reject the null hypothesis\n"
     ]
    }
   ],
   "source": [
    "if p_value < alpha:\n",
    "    print(\"reject the null hypothesis\")\n",
    "else: \n",
    "    print(\"accept the null hypothesis\")\n",
    "    "
   ]
  },
  {
   "cell_type": "code",
   "execution_count": null,
   "id": "4e360d06-af88-4d0f-93f0-5e3866c4233d",
   "metadata": {},
   "outputs": [],
   "source": []
  }
 ],
 "metadata": {
  "kernelspec": {
   "display_name": "Python 3 (ipykernel)",
   "language": "python",
   "name": "python3"
  },
  "language_info": {
   "codemirror_mode": {
    "name": "ipython",
    "version": 3
   },
   "file_extension": ".py",
   "mimetype": "text/x-python",
   "name": "python",
   "nbconvert_exporter": "python",
   "pygments_lexer": "ipython3",
   "version": "3.12.7"
  }
 },
 "nbformat": 4,
 "nbformat_minor": 5
}
