{
 "cells": [
  {
   "cell_type": "code",
   "execution_count": null,
   "id": "6721c79e-25d4-48b9-aee5-ae8ed6dd1d41",
   "metadata": {},
   "outputs": [],
   "source": [
    "# z test using p value \n"
   ]
  },
  {
   "cell_type": "code",
   "execution_count": 2,
   "id": "2319093c-af41-4b55-8c3d-4dd9aeca9be0",
   "metadata": {},
   "outputs": [],
   "source": [
    "import numpy as np \n",
    "from scipy.stats import norm \n"
   ]
  },
  {
   "cell_type": "code",
   "execution_count": 3,
   "id": "57770f77-1827-436a-aaf6-5962f0105c40",
   "metadata": {},
   "outputs": [],
   "source": [
    "sample = [172, 174, 168, 169, 171, 173, 175, 170, 169, 172]\n",
    "population_mean = 170\n",
    "population_std = 3 \n",
    "samp_mean = np.mean(sample)\n",
    "n = len(sample)"
   ]
  },
  {
   "cell_type": "code",
   "execution_count": 4,
   "id": "c5923420-d7ff-4f31-8e74-7dcb5a266d74",
   "metadata": {},
   "outputs": [
    {
     "data": {
      "text/plain": [
       "1.3703203194063098"
      ]
     },
     "execution_count": 4,
     "metadata": {},
     "output_type": "execute_result"
    }
   ],
   "source": [
    "z_score = (samp_mean - population_mean) / (population_std / np.sqrt(n))\n",
    "z_score"
   ]
  },
  {
   "cell_type": "code",
   "execution_count": 5,
   "id": "ed7832c0-5421-44ed-b1e5-bb3cd4816c5c",
   "metadata": {},
   "outputs": [
    {
     "data": {
      "text/plain": [
       "0.17058693287143756"
      ]
     },
     "execution_count": 5,
     "metadata": {},
     "output_type": "execute_result"
    }
   ],
   "source": [
    "p_value = 2*(1-norm.cdf(abs(z_score)))\n",
    "p_value"
   ]
  },
  {
   "cell_type": "code",
   "execution_count": 6,
   "id": "25ea8d76-824d-4633-a639-0c385af3bda5",
   "metadata": {},
   "outputs": [
    {
     "name": "stdout",
     "output_type": "stream",
     "text": [
      "i will reject the null hypothesis\n"
     ]
    }
   ],
   "source": [
    "alpha = 0.5\n",
    "\n",
    "if p_value <alpha: \n",
    "    print(\"i will reject the null hypothesis\")\n",
    "else:\n",
    "    print(\"i will accept the null hypothesis\")"
   ]
  },
  {
   "cell_type": "code",
   "execution_count": null,
   "id": "9754e62c-75db-4b33-8bf5-1ad59ce973e3",
   "metadata": {},
   "outputs": [],
   "source": []
  }
 ],
 "metadata": {
  "kernelspec": {
   "display_name": "Python 3 (ipykernel)",
   "language": "python",
   "name": "python3"
  },
  "language_info": {
   "codemirror_mode": {
    "name": "ipython",
    "version": 3
   },
   "file_extension": ".py",
   "mimetype": "text/x-python",
   "name": "python",
   "nbconvert_exporter": "python",
   "pygments_lexer": "ipython3",
   "version": "3.12.7"
  }
 },
 "nbformat": 4,
 "nbformat_minor": 5
}
