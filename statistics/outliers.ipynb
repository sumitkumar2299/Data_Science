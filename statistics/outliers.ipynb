{
 "cells": [
  {
   "cell_type": "code",
   "execution_count": 1,
   "id": "bb3f9fcf-f8a7-4d15-819b-dddbb02f1d1c",
   "metadata": {},
   "outputs": [
    {
     "data": {
      "text/plain": [
       "array([  1,   2,   3,   4,   5,   6,   7,   8,   9,  12,  13,  16,  17,\n",
       "        23,  25,  27,  34,  37, 201])"
      ]
     },
     "execution_count": 1,
     "metadata": {},
     "output_type": "execute_result"
    }
   ],
   "source": [
    "import numpy as np \n",
    "arr = np.array([1,2,3,4,5,6,7,8,9,12,13,16,17,23,25,27,34,37,201])\n",
    "\n",
    "arr"
   ]
  },
  {
   "cell_type": "code",
   "execution_count": 4,
   "id": "9f92a6e5-28f1-486d-8fd4-84e544e6ffbe",
   "metadata": {},
   "outputs": [],
   "source": [
    "q1 = np.percentile(arr,25)\n",
    "q3 = np.percentile(arr,75)\n"
   ]
  },
  {
   "cell_type": "code",
   "execution_count": 5,
   "id": "fd374b95-3c9d-4de7-a74e-832659bcd188",
   "metadata": {},
   "outputs": [
    {
     "data": {
      "text/plain": [
       "18.5"
      ]
     },
     "execution_count": 5,
     "metadata": {},
     "output_type": "execute_result"
    }
   ],
   "source": [
    "iqr = q3-q1\n",
    "iqr"
   ]
  },
  {
   "cell_type": "code",
   "execution_count": 9,
   "id": "8febbb60-7c78-494b-978c-4ef7c29e1756",
   "metadata": {},
   "outputs": [],
   "source": [
    "uf = q3 + (1.5* iqr)\n",
    "lf = q1 - (1.5 * iqr)\n"
   ]
  },
  {
   "cell_type": "code",
   "execution_count": 10,
   "id": "125e2f6d-8da2-459e-bc7d-a9bb31a8c52e",
   "metadata": {},
   "outputs": [],
   "source": [
    "l = []\n",
    "for i in arr: \n",
    "    if i>= lf and i<= uf: \n",
    "        l.append(i)\n",
    "arr2 = np.array(i)"
   ]
  },
  {
   "cell_type": "code",
   "execution_count": 11,
   "id": "4861812b-f842-4e27-88eb-386197372873",
   "metadata": {},
   "outputs": [
    {
     "name": "stdout",
     "output_type": "stream",
     "text": [
      "[  1   2   3   4   5   6   7   8   9  12  13  16  17  23  25  27  34  37\n",
      " 201]\n",
      "201\n"
     ]
    }
   ],
   "source": [
    "print(arr)\n",
    "print(arr2)"
   ]
  },
  {
   "cell_type": "code",
   "execution_count": null,
   "id": "8bfaa2ed-642d-4dec-8e3f-81707b5a36dd",
   "metadata": {},
   "outputs": [],
   "source": []
  }
 ],
 "metadata": {
  "kernelspec": {
   "display_name": "Python 3 (ipykernel)",
   "language": "python",
   "name": "python3"
  },
  "language_info": {
   "codemirror_mode": {
    "name": "ipython",
    "version": 3
   },
   "file_extension": ".py",
   "mimetype": "text/x-python",
   "name": "python",
   "nbconvert_exporter": "python",
   "pygments_lexer": "ipython3",
   "version": "3.12.7"
  }
 },
 "nbformat": 4,
 "nbformat_minor": 5
}
