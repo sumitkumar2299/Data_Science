{
 "cells": [
  {
   "cell_type": "code",
   "execution_count": 5,
   "id": "1168a074-67a5-4176-8545-44c07238ea86",
   "metadata": {},
   "outputs": [
    {
     "name": "stdout",
     "output_type": "stream",
     "text": [
      "      name  age     city\n",
      "0    sumit   20    patna\n",
      "1    rahul   20  kolkata\n",
      "2  krishna   20     gaya\n"
     ]
    }
   ],
   "source": [
    "\n",
    "\n",
    "import pandas as pd\n",
    "\n",
    "data = {\n",
    "    \"name\":[\"sumit\",\"rahul\",\"krishna\"],\n",
    "    \"age\":[20,20,20],\n",
    "    \"city\":[\"patna\",\"kolkata\",\"gaya\"]\n",
    "}\n",
    "\n",
    "df = pd.DataFrame(data)\n",
    "print(df)"
   ]
  },
  {
   "cell_type": "code",
   "execution_count": 7,
   "id": "706923b1-9c64-4e7c-840b-d493b01a83e3",
   "metadata": {},
   "outputs": [
    {
     "name": "stdout",
     "output_type": "stream",
     "text": [
      "0    10\n",
      "1    20\n",
      "2    30\n",
      "3    40\n",
      "dtype: int64\n"
     ]
    }
   ],
   "source": [
    "# series => 1d labeled array \n",
    "\n",
    "import pandas as pd \n",
    "s = pd.Series([10,20,30,40])\n",
    "print(s)"
   ]
  },
  {
   "cell_type": "code",
   "execution_count": 8,
   "id": "c967ae56-db91-4589-af87-a967417ee548",
   "metadata": {},
   "outputs": [
    {
     "name": "stdout",
     "output_type": "stream",
     "text": [
      "Index(['a', 'b', 'c'], dtype='object')\n",
      "Index(['name', 'age', 'city'], dtype='object')\n"
     ]
    }
   ],
   "source": [
    "# index and labels \n",
    "\n",
    "df.index\n",
    "df.columns\n",
    "\n",
    "df.index = [\"a\",\"b\",\"c\"]\n",
    "df.columns = [\"name\",\"age\",\"city\"]\n",
    "\n",
    "print(df.index)\n",
    "print(df.columns)"
   ]
  },
  {
   "cell_type": "code",
   "execution_count": null,
   "id": "11377b5c-068c-4349-84d0-98868a3077c1",
   "metadata": {},
   "outputs": [],
   "source": []
  },
  {
   "cell_type": "code",
   "execution_count": null,
   "id": "d55074e5-7a8c-4d18-a742-4ece2951478a",
   "metadata": {},
   "outputs": [],
   "source": []
  }
 ],
 "metadata": {
  "kernelspec": {
   "display_name": "Python 3 (ipykernel)",
   "language": "python",
   "name": "python3"
  },
  "language_info": {
   "codemirror_mode": {
    "name": "ipython",
    "version": 3
   },
   "file_extension": ".py",
   "mimetype": "text/x-python",
   "name": "python",
   "nbconvert_exporter": "python",
   "pygments_lexer": "ipython3",
   "version": "3.12.7"
  }
 },
 "nbformat": 4,
 "nbformat_minor": 5
}
