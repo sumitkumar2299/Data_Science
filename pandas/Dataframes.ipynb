{
 "cells": [
  {
   "cell_type": "code",
   "execution_count": 4,
   "id": "32b86d8c-2a08-4bb7-8652-080cfec3ac71",
   "metadata": {},
   "outputs": [
    {
     "name": "stdout",
     "output_type": "stream",
     "text": [
      "      Name  age\n",
      "0    alice   25\n",
      "1    sumit   30\n",
      "2  charlie   35\n"
     ]
    }
   ],
   "source": [
    "# FROM PYTHON LIST \n",
    "\n",
    "import pandas as pd\n",
    "data = [\n",
    "    [\"alice\",25],\n",
    "    [\"sumit\",30],\n",
    "    [\"charlie\",35]\n",
    "]\n",
    "\n",
    "df = pd.DataFrame(data,columns=[\"Name\",\"age\"])\n",
    "print(df)"
   ]
  },
  {
   "cell_type": "code",
   "execution_count": 7,
   "id": "369c0653-7d30-4871-a550-68ac717fc63d",
   "metadata": {},
   "outputs": [
    {
     "name": "stdout",
     "output_type": "stream",
     "text": [
      "      name  age\n",
      "0    alice   25\n",
      "1      bob   30\n",
      "2  charlie   35\n"
     ]
    }
   ],
   "source": [
    "# from dictionary of lists \n",
    "data = {\n",
    "    \"name\":[\"alice\",\"bob\",\"charlie\"],\n",
    "    \"age\":[25,30,35]\n",
    "}\n",
    "df = pd.DataFrame(data)\n",
    "print(df)\n",
    "\n",
    "# each key becomes a column, and each list is the column data\n",
    "\n"
   ]
  },
  {
   "cell_type": "code",
   "execution_count": 9,
   "id": "c82bc29f-7bce-448d-af23-b27e445c194d",
   "metadata": {},
   "outputs": [
    {
     "name": "stdout",
     "output_type": "stream",
     "text": [
      "   a  b\n",
      "0  1  2\n",
      "1  3  4\n"
     ]
    }
   ],
   "source": [
    "import numpy as np\n",
    "arr = np.array([[1,2],[3,4]])\n",
    "df = pd.DataFrame(arr,columns=[\"a\",\"b\"])\n",
    "print(df)"
   ]
  },
  {
   "cell_type": "code",
   "execution_count": 11,
   "id": "4d1047ee-4b6b-4839-9eef-a55f8ee50efb",
   "metadata": {},
   "outputs": [
    {
     "name": "stdout",
     "output_type": "stream",
     "text": [
      "                                                                                              Result for RegNo: 22155135001\n",
      "Subject_Code Subject_Name                                       External Internal Total Grade                        Credit\n",
      "100403       Digital Electronics                                49       28       77    B                              3.00\n",
      "100404       Discrete Mathematics                               33       27       60    C                              4.00\n",
      "100407       Human Resource Development and Organizational B... 48       28       76    B                              3.00\n",
      "105401       Computer Organization & Architecture               46       29       75    B                              3.00\n",
      "...                                                                                                                     ...\n",
      "Subject_Code Subject_Name                                       External Internal Total Grade                        Credit\n",
      "100403P      Digital Electronics                                26       14       40    A                              2.00\n",
      "105401P      Computer Organization & Architecture               26       17       43    A                              2.00\n",
      "105402P      Design & Analysis of Algorithms                    24       12       36    B                              2.00\n",
      "105403P      Operating Systems                                  24       16       40    A                              2.00\n",
      "\n",
      "[769 rows x 1 columns]\n"
     ]
    }
   ],
   "source": [
    "# from csv files \n",
    "import pandas as pd\n",
    "df = pd.read_csv(\"results.csv\")\n",
    "print(df)"
   ]
  },
  {
   "cell_type": "code",
   "execution_count": null,
   "id": "6bc3618e-9712-49ce-b77c-6d8f1973d7f0",
   "metadata": {},
   "outputs": [],
   "source": []
  }
 ],
 "metadata": {
  "kernelspec": {
   "display_name": "Python 3 (ipykernel)",
   "language": "python",
   "name": "python3"
  },
  "language_info": {
   "codemirror_mode": {
    "name": "ipython",
    "version": 3
   },
   "file_extension": ".py",
   "mimetype": "text/x-python",
   "name": "python",
   "nbconvert_exporter": "python",
   "pygments_lexer": "ipython3",
   "version": "3.12.7"
  }
 },
 "nbformat": 4,
 "nbformat_minor": 5
}
