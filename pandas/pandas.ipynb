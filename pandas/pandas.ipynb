{
 "cells": [
  {
   "cell_type": "code",
   "execution_count": null,
   "id": "7a42d15d-bd31-48c9-b6bd-23e841bb9e84",
   "metadata": {},
   "outputs": [],
   "source": [
    "# series = one dimensional array \n",
    "# dataframes = two dimensional array \n"
   ]
  },
  {
   "cell_type": "code",
   "execution_count": 1,
   "id": "a07b757c-e2ba-4349-9740-df285558c780",
   "metadata": {},
   "outputs": [
    {
     "name": "stdout",
     "output_type": "stream",
     "text": [
      "0    10\n",
      "1    20\n",
      "2    30\n",
      "3    40\n",
      "dtype: int64\n"
     ]
    }
   ],
   "source": [
    "import pandas as pd \n",
    "s = pd.Series([10,20,30,40])\n",
    "print(s)\n",
    "# noticing the automatic index 0, 1,2,3\n"
   ]
  },
  {
   "cell_type": "code",
   "execution_count": 3,
   "id": "7e2084ed-32e7-46fb-b142-d34d8f8d7af5",
   "metadata": {},
   "outputs": [
    {
     "name": "stdout",
     "output_type": "stream",
     "text": [
      "a    10\n",
      "b    20\n",
      "c    30\n",
      "dtype: int64\n"
     ]
    }
   ],
   "source": [
    "# we can also define a custom index \n",
    "s = pd.Series([10,20,30],index = [\"a\",\"b\",\"c\"])\n",
    "print(s)"
   ]
  },
  {
   "cell_type": "code",
   "execution_count": 5,
   "id": "dddde11a-41b6-4638-91e2-6b33578a873f",
   "metadata": {},
   "outputs": [
    {
     "name": "stdout",
     "output_type": "stream",
     "text": [
      "      name  age       city\n",
      "0    alice   25      delhi\n",
      "1      bob   30     mumbai\n",
      "2  charlie   35  bangalore\n"
     ]
    }
   ],
   "source": [
    "# dataframes 2d labeled table \n",
    "\n",
    "data = {\n",
    "    \"name\":[\"alice\",\"bob\",\"charlie\"],\n",
    "    \"age\":[25,30,35],\n",
    "    \"city\":[\"delhi\",\"mumbai\",\"bangalore\"]\n",
    "}\n",
    "\n",
    "df = pd.DataFrame(data)\n",
    "print(df)\n"
   ]
  },
  {
   "cell_type": "code",
   "execution_count": 7,
   "id": "538dfdce-9450-4db0-8278-0c07fab45fe9",
   "metadata": {},
   "outputs": [],
   "source": [
    "# index and labels \n",
    "# df.index \n",
    "# df.columns\n",
    "\n",
    "# df.index = [\"a\",\"b\",\"c\"]\n",
    "# df.columns = [\"name\",\"age\",\"columns\"]\n",
    "\n"
   ]
  },
  {
   "cell_type": "code",
   "execution_count": 9,
   "id": "beef8485-d064-4770-b818-082fde7de216",
   "metadata": {},
   "outputs": [
    {
     "name": "stdout",
     "output_type": "stream",
     "text": [
      "      name  age\n",
      "0    sumit   20\n",
      "1    rahul   21\n",
      "2  charlie   22\n"
     ]
    }
   ],
   "source": [
    "# creating dataframes \n",
    "\n",
    "import pandas as pd \n",
    "data = [\n",
    "    [\"sumit\",20],\n",
    "    [\"rahul\",21],\n",
    "    [\"charlie\",22]\n",
    "]\n",
    "\n",
    "df = pd.DataFrame(data,columns = [\"name\",\"age\"])\n",
    "print(df)"
   ]
  },
  {
   "cell_type": "code",
   "execution_count": 10,
   "id": "49399367-29a5-459d-b55d-3e5cee1e8c4d",
   "metadata": {},
   "outputs": [
    {
     "name": "stdout",
     "output_type": "stream",
     "text": [
      "    name  age\n",
      "0  sumit   25\n",
      "1  kumar   30\n",
      "2  yadav   35\n"
     ]
    }
   ],
   "source": [
    "# from dictionary of list \n",
    "\n",
    "data = {\n",
    "    \"name\": [\"sumit\",\"kumar\",\"yadav\"],\n",
    "    \"age\":[25,30,35]\n",
    "}\n",
    "df = pd.DataFrame(data)\n",
    "print(df)\n",
    "# key becomes columns and each list becomes\n",
    "# columns of data "
   ]
  },
  {
   "cell_type": "code",
   "execution_count": 12,
   "id": "13991bc4-6b40-487a-8581-0615f781f61a",
   "metadata": {},
   "outputs": [
    {
     "name": "stdout",
     "output_type": "stream",
     "text": [
      "   a  b\n",
      "0  1  2\n",
      "1  3  4\n"
     ]
    }
   ],
   "source": [
    "# from numpy arrays \n",
    "\n",
    "import numpy as np \n",
    "\n",
    "arr = np.array([[1,2],[3,4]])\n",
    "df = pd.DataFrame(arr,columns=[\"a\",\"b\"])\n",
    "# it's important to provide columns name\n",
    "print(df)"
   ]
  },
  {
   "cell_type": "code",
   "execution_count": 18,
   "id": "a753bbf3-652b-4807-aa11-aebcff8cff70",
   "metadata": {},
   "outputs": [
    {
     "name": "stdout",
     "output_type": "stream",
     "text": [
      "                                                                                              Result for RegNo: 22155135001\n",
      "Subject_Code Subject_Name                                       External Internal Total Grade                        Credit\n",
      "100403       Digital Electronics                                49       28       77    B                              3.00\n",
      "100404       Discrete Mathematics                               33       27       60    C                              4.00\n",
      "100407       Human Resource Development and Organizational B... 48       28       76    B                              3.00\n",
      "105401       Computer Organization & Architecture               46       29       75    B                              3.00\n",
      "...                                                                                                                     ...\n",
      "Subject_Code Subject_Name                                       External Internal Total Grade                        Credit\n",
      "100403P      Digital Electronics                                26       14       40    A                              2.00\n",
      "105401P      Computer Organization & Architecture               26       17       43    A                              2.00\n",
      "105402P      Design & Analysis of Algorithms                    24       12       36    B                              2.00\n",
      "105403P      Operating Systems                                  24       16       40    A                              2.00\n",
      "\n",
      "[769 rows x 1 columns]\n"
     ]
    }
   ],
   "source": [
    "df = pd.read_csv(\"results.csv\")\n",
    "print(df)\n"
   ]
  },
  {
   "cell_type": "code",
   "execution_count": 17,
   "id": "3ea6e14a-d0f0-4022-a66b-459f67d09c4c",
   "metadata": {},
   "outputs": [
    {
     "name": "stdout",
     "output_type": "stream",
     "text": [
      "     total_bill   tip     sex smoker   day    time  size\n",
      "0         16.99  1.01  Female     No   Sun  Dinner     2\n",
      "1         10.34  1.66    Male     No   Sun  Dinner     3\n",
      "2         21.01  3.50    Male     No   Sun  Dinner     3\n",
      "3         23.68  3.31    Male     No   Sun  Dinner     2\n",
      "4         24.59  3.61  Female     No   Sun  Dinner     4\n",
      "..          ...   ...     ...    ...   ...     ...   ...\n",
      "239       29.03  5.92    Male     No   Sat  Dinner     3\n",
      "240       27.18  2.00  Female    Yes   Sat  Dinner     2\n",
      "241       22.67  2.00    Male    Yes   Sat  Dinner     2\n",
      "242       17.82  1.75    Male     No   Sat  Dinner     2\n",
      "243       18.78  3.00  Female     No  Thur  Dinner     2\n",
      "\n",
      "[244 rows x 7 columns]\n"
     ]
    }
   ],
   "source": [
    "# from the web \n",
    "\n",
    "url = \"https://raw.githubusercontent.com/mwaskom/seaborn-data/master/tips.csv\"\n",
    "df = pd.read_csv(url)\n",
    "print(df)"
   ]
  },
  {
   "cell_type": "code",
   "execution_count": null,
   "id": "80317886-1172-497a-8fe4-177c3c656cb2",
   "metadata": {},
   "outputs": [],
   "source": [
    "# eda (explanatory data analysis)\n",
    "\n",
    "\n",
    "# basic commands \n",
    "df.head() # First 5 rows\n",
    "df.tail() # Last 5 rows\n",
    "df.info() # Column info: types, non-nulls\n",
    "df.describe() # Stats for numeric columns\n",
    "df.columns # List of column names\n",
    "df.shape # (rows, columns)\n",
    "\n",
    "\n",
    "\n",
    "\n",
    "\n"
   ]
  },
  {
   "cell_type": "code",
   "execution_count": 26,
   "id": "e15fa89a-4a6f-45b5-9e58-d3d07694245e",
   "metadata": {},
   "outputs": [
    {
     "name": "stdout",
     "output_type": "stream",
     "text": [
      "                                                                                              Result for RegNo: 22155135001\n",
      "Subject_Code Subject_Name                                       External Internal Total Grade                        Credit\n",
      "100403       Digital Electronics                                49       28       77    B                              3.00\n",
      "100404       Discrete Mathematics                               33       27       60    C                              4.00\n",
      "100407       Human Resource Development and Organizational B... 48       28       76    B                              3.00\n",
      "105401       Computer Organization & Architecture               46       29       75    B                              3.00\n",
      "...                                                                                                                     ...\n",
      "Subject_Code Subject_Name                                       External Internal Total Grade                        Credit\n",
      "100403P      Digital Electronics                                26       14       40    A                              2.00\n",
      "105401P      Computer Organization & Architecture               26       17       43    A                              2.00\n",
      "105402P      Design & Analysis of Algorithms                    24       12       36    B                              2.00\n",
      "105403P      Operating Systems                                  24       16       40    A                              2.00\n",
      "\n",
      "[769 rows x 1 columns]\n",
      "<class 'pandas.core.frame.DataFrame'>\n",
      "MultiIndex: 769 entries, ('Subject_Code', 'Subject_Name', 'External', 'Internal', 'Total', 'Grade') to ('105403P', 'Operating Systems', '24', '16', '40', 'A')\n",
      "Data columns (total 1 columns):\n",
      " #   Column                         Non-Null Count  Dtype \n",
      "---  ------                         --------------  ----- \n",
      " 0   Result for RegNo: 22155135001  660 non-null    object\n",
      "dtypes: object(1)\n",
      "memory usage: 19.6+ KB\n"
     ]
    },
    {
     "data": {
      "text/plain": [
       "(769, 1)"
      ]
     },
     "execution_count": 26,
     "metadata": {},
     "output_type": "execute_result"
    }
   ],
   "source": [
    "# data selection and filtering \n",
    "df = pd.read_csv(\"results.csv\")\n",
    "print(df)\n",
    "df.info()\n",
    "df.describe()\n",
    "df.columns\n",
    "df.shape\n"
   ]
  },
  {
   "cell_type": "code",
   "execution_count": 27,
   "id": "ed3f610f-5d6a-4884-8e5a-d6e2f5af411a",
   "metadata": {},
   "outputs": [
    {
     "name": "stdout",
     "output_type": "stream",
     "text": [
      "        Date  LocationID  Temperature_Celsius  Humidity_Percent  \\\n",
      "0   20250101           1                 10.0                75   \n",
      "1   20250101           2                  8.0                80   \n",
      "2   20250102           1                 12.0                70   \n",
      "3   20250102           2                  NaN                78   \n",
      "4   20250103           1                 11.0                72   \n",
      "5   20250103           2                  9.0                81   \n",
      "6   20250104           1                 10.0                75   \n",
      "7   20250104           2                  8.0                80   \n",
      "8   20250105           1                 12.0                70   \n",
      "9   20250105           2                 10.0                78   \n",
      "10  20250106           1                 11.0                72   \n",
      "11  20250106           2                  9.0                81   \n",
      "12  20250107           1                 10.0                75   \n",
      "13  20250107           2                  8.0                80   \n",
      "14  20250108           1                 12.0                70   \n",
      "15  20250108           2                 10.0                78   \n",
      "16  20250109           1                 11.0                72   \n",
      "17  20250109           2                  9.0                81   \n",
      "18  20250110           1                 10.0                75   \n",
      "19  20250110           2                  8.0                80   \n",
      "20  20250111           1                 12.0                70   \n",
      "21  20250111           2                 10.0                78   \n",
      "22  20250112           1                 11.0                72   \n",
      "23  20250112           2                  9.0                81   \n",
      "24  20250113           1                 10.0                75   \n",
      "25  20250113           2                  8.0                80   \n",
      "26  20250114           1                 12.0                70   \n",
      "27  20250114           2                 10.0                78   \n",
      "28  20250115           1                 11.0                72   \n",
      "29  20250115           2                  9.0                81   \n",
      "30  20250116           1                 10.0                75   \n",
      "31  20250116           2                  8.0                80   \n",
      "32  20250117           1                 12.0                70   \n",
      "33  20250117           2                 10.0                78   \n",
      "34  20250118           1                 11.0                72   \n",
      "35  20250118           2                  9.0                81   \n",
      "36  20250119           1                 10.0                75   \n",
      "37  20250119           2                  8.0                80   \n",
      "38  20250120           1                 12.0                70   \n",
      "39  20250120           2                 10.0                78   \n",
      "40  20250121           1                 11.0                72   \n",
      "41  20250121           2                  9.0                81   \n",
      "42  20250122           1                 10.0                75   \n",
      "43  20250122           2                  8.0                80   \n",
      "44  20250123           1                 12.0                70   \n",
      "45  20250123           2                 10.0                78   \n",
      "46  20250124           1                 11.0                72   \n",
      "47  20250124           2                  9.0                81   \n",
      "48  20250125           1                 10.0                75   \n",
      "49  20250125           2                  8.0                80   \n",
      "\n",
      "    Wind_Speed_KMH  \n",
      "0             15.0  \n",
      "1             20.0  \n",
      "2             10.0  \n",
      "3             22.0  \n",
      "4             18.0  \n",
      "5              NaN  \n",
      "6             15.0  \n",
      "7             20.0  \n",
      "8             10.0  \n",
      "9             22.0  \n",
      "10            18.0  \n",
      "11            17.0  \n",
      "12            15.0  \n",
      "13            20.0  \n",
      "14            10.0  \n",
      "15            22.0  \n",
      "16            18.0  \n",
      "17            17.0  \n",
      "18            15.0  \n",
      "19            20.0  \n",
      "20            10.0  \n",
      "21            22.0  \n",
      "22            18.0  \n",
      "23            17.0  \n",
      "24            15.0  \n",
      "25            20.0  \n",
      "26            10.0  \n",
      "27            22.0  \n",
      "28            18.0  \n",
      "29            17.0  \n",
      "30            15.0  \n",
      "31            20.0  \n",
      "32            10.0  \n",
      "33            22.0  \n",
      "34            18.0  \n",
      "35            17.0  \n",
      "36            15.0  \n",
      "37            20.0  \n",
      "38            10.0  \n",
      "39            22.0  \n",
      "40            18.0  \n",
      "41            17.0  \n",
      "42            15.0  \n",
      "43            20.0  \n",
      "44            10.0  \n",
      "45            22.0  \n",
      "46            18.0  \n",
      "47            17.0  \n",
      "48            15.0  \n",
      "49            20.0  \n"
     ]
    }
   ],
   "source": [
    "df = pd.read_csv(\"pandas_data2.csv\")\n",
    "print(df)"
   ]
  },
  {
   "cell_type": "code",
   "execution_count": 28,
   "id": "6a95e6e1-72b9-46cc-836f-5b408694cedc",
   "metadata": {},
   "outputs": [
    {
     "name": "stdout",
     "output_type": "stream",
     "text": [
      "       Date  LocationID  Temperature_Celsius  Humidity_Percent  Wind_Speed_KMH\n",
      "0  20250101           1                 10.0                75            15.0\n",
      "1  20250101           2                  8.0                80            20.0\n",
      "2  20250102           1                 12.0                70            10.0\n",
      "3  20250102           2                  NaN                78            22.0\n",
      "4  20250103           1                 11.0                72            18.0\n",
      "        Date  LocationID  Temperature_Celsius  Humidity_Percent  \\\n",
      "45  20250123           2                 10.0                78   \n",
      "46  20250124           1                 11.0                72   \n",
      "47  20250124           2                  9.0                81   \n",
      "48  20250125           1                 10.0                75   \n",
      "49  20250125           2                  8.0                80   \n",
      "\n",
      "    Wind_Speed_KMH  \n",
      "45            22.0  \n",
      "46            18.0  \n",
      "47            17.0  \n",
      "48            15.0  \n",
      "49            20.0  \n",
      "<class 'pandas.core.frame.DataFrame'>\n",
      "RangeIndex: 50 entries, 0 to 49\n",
      "Data columns (total 5 columns):\n",
      " #   Column               Non-Null Count  Dtype  \n",
      "---  ------               --------------  -----  \n",
      " 0   Date                 50 non-null     int64  \n",
      " 1   LocationID           50 non-null     int64  \n",
      " 2   Temperature_Celsius  49 non-null     float64\n",
      " 3   Humidity_Percent     50 non-null     int64  \n",
      " 4   Wind_Speed_KMH       49 non-null     float64\n",
      "dtypes: float64(2), int64(3)\n",
      "memory usage: 2.1 KB\n",
      "None\n",
      "               Date  LocationID  Temperature_Celsius  Humidity_Percent  \\\n",
      "count  5.000000e+01   50.000000            49.000000          50.00000   \n",
      "mean   2.025011e+07    1.500000             9.959184          76.06000   \n",
      "std    7.284314e+00    0.505076             1.322233           4.04268   \n",
      "min    2.025010e+07    1.000000             8.000000          70.00000   \n",
      "25%    2.025011e+07    1.000000             9.000000          72.00000   \n",
      "50%    2.025011e+07    1.500000            10.000000          76.50000   \n",
      "75%    2.025012e+07    2.000000            11.000000          80.00000   \n",
      "max    2.025012e+07    2.000000            12.000000          81.00000   \n",
      "\n",
      "       Wind_Speed_KMH  \n",
      "count       49.000000  \n",
      "mean        17.020408  \n",
      "std          3.864851  \n",
      "min         10.000000  \n",
      "25%         15.000000  \n",
      "50%         18.000000  \n",
      "75%         20.000000  \n",
      "max         22.000000  \n",
      "Index(['Date', 'LocationID', 'Temperature_Celsius', 'Humidity_Percent',\n",
      "       'Wind_Speed_KMH'],\n",
      "      dtype='object')\n",
      "(50, 5)\n"
     ]
    }
   ],
   "source": [
    "print(df.head())\n",
    "# gives first 5 rows \n",
    "print(df.tail())\n",
    "#  gives last 5 rows\n",
    "print(df.info())\n",
    "# columns info: types,nulls \n",
    "print(df.describe())\n",
    "# stars of numeric columns \n",
    "print(df.columns)\n",
    "# listof columns names \n",
    "print(df.shape)\n",
    "# it gives rows and columns "
   ]
  },
  {
   "cell_type": "code",
   "execution_count": 29,
   "id": "e00b5205-73e6-4795-a868-9dfb0d79e38c",
   "metadata": {},
   "outputs": [
    {
     "name": "stdout",
     "output_type": "stream",
     "text": [
      "       Date  LocationID  Temperature_Celsius  Humidity_Percent  Wind_Speed_KMH\n",
      "0  20250101           1                 10.0                75            15.0\n",
      "1  20250101           2                  8.0                80            20.0\n",
      "2  20250102           1                 12.0                70            10.0\n",
      "3  20250102           2                  NaN                78            22.0\n",
      "4  20250103           1                 11.0                72            18.0\n"
     ]
    }
   ],
   "source": [
    "print(df.head())"
   ]
  },
  {
   "cell_type": "code",
   "execution_count": 30,
   "id": "fea6f9b8-72b7-4473-a5db-7cc87fc4bf73",
   "metadata": {},
   "outputs": [
    {
     "name": "stdout",
     "output_type": "stream",
     "text": [
      "        Date  LocationID  Temperature_Celsius  Humidity_Percent  \\\n",
      "45  20250123           2                 10.0                78   \n",
      "46  20250124           1                 11.0                72   \n",
      "47  20250124           2                  9.0                81   \n",
      "48  20250125           1                 10.0                75   \n",
      "49  20250125           2                  8.0                80   \n",
      "\n",
      "    Wind_Speed_KMH  \n",
      "45            22.0  \n",
      "46            18.0  \n",
      "47            17.0  \n",
      "48            15.0  \n",
      "49            20.0  \n"
     ]
    }
   ],
   "source": [
    "print(df.tail())"
   ]
  },
  {
   "cell_type": "code",
   "execution_count": 31,
   "id": "0816d32b-407f-4a4d-b11f-b939742b2c2c",
   "metadata": {},
   "outputs": [
    {
     "name": "stdout",
     "output_type": "stream",
     "text": [
      "<bound method DataFrame.info of         Date  LocationID  Temperature_Celsius  Humidity_Percent  \\\n",
      "0   20250101           1                 10.0                75   \n",
      "1   20250101           2                  8.0                80   \n",
      "2   20250102           1                 12.0                70   \n",
      "3   20250102           2                  NaN                78   \n",
      "4   20250103           1                 11.0                72   \n",
      "5   20250103           2                  9.0                81   \n",
      "6   20250104           1                 10.0                75   \n",
      "7   20250104           2                  8.0                80   \n",
      "8   20250105           1                 12.0                70   \n",
      "9   20250105           2                 10.0                78   \n",
      "10  20250106           1                 11.0                72   \n",
      "11  20250106           2                  9.0                81   \n",
      "12  20250107           1                 10.0                75   \n",
      "13  20250107           2                  8.0                80   \n",
      "14  20250108           1                 12.0                70   \n",
      "15  20250108           2                 10.0                78   \n",
      "16  20250109           1                 11.0                72   \n",
      "17  20250109           2                  9.0                81   \n",
      "18  20250110           1                 10.0                75   \n",
      "19  20250110           2                  8.0                80   \n",
      "20  20250111           1                 12.0                70   \n",
      "21  20250111           2                 10.0                78   \n",
      "22  20250112           1                 11.0                72   \n",
      "23  20250112           2                  9.0                81   \n",
      "24  20250113           1                 10.0                75   \n",
      "25  20250113           2                  8.0                80   \n",
      "26  20250114           1                 12.0                70   \n",
      "27  20250114           2                 10.0                78   \n",
      "28  20250115           1                 11.0                72   \n",
      "29  20250115           2                  9.0                81   \n",
      "30  20250116           1                 10.0                75   \n",
      "31  20250116           2                  8.0                80   \n",
      "32  20250117           1                 12.0                70   \n",
      "33  20250117           2                 10.0                78   \n",
      "34  20250118           1                 11.0                72   \n",
      "35  20250118           2                  9.0                81   \n",
      "36  20250119           1                 10.0                75   \n",
      "37  20250119           2                  8.0                80   \n",
      "38  20250120           1                 12.0                70   \n",
      "39  20250120           2                 10.0                78   \n",
      "40  20250121           1                 11.0                72   \n",
      "41  20250121           2                  9.0                81   \n",
      "42  20250122           1                 10.0                75   \n",
      "43  20250122           2                  8.0                80   \n",
      "44  20250123           1                 12.0                70   \n",
      "45  20250123           2                 10.0                78   \n",
      "46  20250124           1                 11.0                72   \n",
      "47  20250124           2                  9.0                81   \n",
      "48  20250125           1                 10.0                75   \n",
      "49  20250125           2                  8.0                80   \n",
      "\n",
      "    Wind_Speed_KMH  \n",
      "0             15.0  \n",
      "1             20.0  \n",
      "2             10.0  \n",
      "3             22.0  \n",
      "4             18.0  \n",
      "5              NaN  \n",
      "6             15.0  \n",
      "7             20.0  \n",
      "8             10.0  \n",
      "9             22.0  \n",
      "10            18.0  \n",
      "11            17.0  \n",
      "12            15.0  \n",
      "13            20.0  \n",
      "14            10.0  \n",
      "15            22.0  \n",
      "16            18.0  \n",
      "17            17.0  \n",
      "18            15.0  \n",
      "19            20.0  \n",
      "20            10.0  \n",
      "21            22.0  \n",
      "22            18.0  \n",
      "23            17.0  \n",
      "24            15.0  \n",
      "25            20.0  \n",
      "26            10.0  \n",
      "27            22.0  \n",
      "28            18.0  \n",
      "29            17.0  \n",
      "30            15.0  \n",
      "31            20.0  \n",
      "32            10.0  \n",
      "33            22.0  \n",
      "34            18.0  \n",
      "35            17.0  \n",
      "36            15.0  \n",
      "37            20.0  \n",
      "38            10.0  \n",
      "39            22.0  \n",
      "40            18.0  \n",
      "41            17.0  \n",
      "42            15.0  \n",
      "43            20.0  \n",
      "44            10.0  \n",
      "45            22.0  \n",
      "46            18.0  \n",
      "47            17.0  \n",
      "48            15.0  \n",
      "49            20.0  >\n"
     ]
    }
   ],
   "source": [
    "print(df.info)"
   ]
  },
  {
   "cell_type": "code",
   "execution_count": 32,
   "id": "4a2e23b5-6599-4884-9028-aa4ec20b3419",
   "metadata": {},
   "outputs": [
    {
     "name": "stdout",
     "output_type": "stream",
     "text": [
      "               Date  LocationID  Temperature_Celsius  Humidity_Percent  \\\n",
      "count  5.000000e+01   50.000000            49.000000          50.00000   \n",
      "mean   2.025011e+07    1.500000             9.959184          76.06000   \n",
      "std    7.284314e+00    0.505076             1.322233           4.04268   \n",
      "min    2.025010e+07    1.000000             8.000000          70.00000   \n",
      "25%    2.025011e+07    1.000000             9.000000          72.00000   \n",
      "50%    2.025011e+07    1.500000            10.000000          76.50000   \n",
      "75%    2.025012e+07    2.000000            11.000000          80.00000   \n",
      "max    2.025012e+07    2.000000            12.000000          81.00000   \n",
      "\n",
      "       Wind_Speed_KMH  \n",
      "count       49.000000  \n",
      "mean        17.020408  \n",
      "std          3.864851  \n",
      "min         10.000000  \n",
      "25%         15.000000  \n",
      "50%         18.000000  \n",
      "75%         20.000000  \n",
      "max         22.000000  \n"
     ]
    }
   ],
   "source": [
    "print(df.describe())"
   ]
  },
  {
   "cell_type": "code",
   "execution_count": 33,
   "id": "6a92750b-6ef5-4040-bedb-071dfde7a887",
   "metadata": {},
   "outputs": [
    {
     "name": "stdout",
     "output_type": "stream",
     "text": [
      "Index(['Date', 'LocationID', 'Temperature_Celsius', 'Humidity_Percent',\n",
      "       'Wind_Speed_KMH'],\n",
      "      dtype='object')\n"
     ]
    }
   ],
   "source": [
    "print(df.columns)"
   ]
  },
  {
   "cell_type": "code",
   "execution_count": 34,
   "id": "81131000-e375-4b18-bdda-aa0a9ba462e3",
   "metadata": {},
   "outputs": [
    {
     "name": "stdout",
     "output_type": "stream",
     "text": [
      "(50, 5)\n"
     ]
    }
   ],
   "source": [
    "print(df.shape)\n",
    "# it gives number of rows and columns "
   ]
  },
  {
   "cell_type": "code",
   "execution_count": 37,
   "id": "b5228118-8a28-4d9e-86c1-a2ec7a82657e",
   "metadata": {},
   "outputs": [],
   "source": [
    "# data selction and filtering \n",
    "\n",
    "# selecting columns \n",
    "df[\"column_name\"]\n",
    "# as series \n",
    "df[[\"col1\",\"col2\"]]\n",
    "# as dataframe \n"
   ]
  },
  {
   "cell_type": "code",
   "execution_count": 41,
   "id": "5ab79b25-bc37-40df-aa4d-016211859886",
   "metadata": {},
   "outputs": [
    {
     "name": "stdout",
     "output_type": "stream",
     "text": [
      "Date                   20250101.0\n",
      "LocationID                    1.0\n",
      "Temperature_Celsius          10.0\n",
      "Humidity_Percent             75.0\n",
      "Wind_Speed_KMH               15.0\n",
      "Name: 0, dtype: float64\n"
     ]
    }
   ],
   "source": [
    "print(df.loc[0])\n",
    "# gives first row(bu label)"
   ]
  },
  {
   "cell_type": "code",
   "execution_count": 42,
   "id": "188db7b2-3b70-4b28-805f-0a07152e65ce",
   "metadata": {},
   "outputs": [
    {
     "name": "stdout",
     "output_type": "stream",
     "text": [
      "Date                   20250101.0\n",
      "LocationID                    1.0\n",
      "Temperature_Celsius          10.0\n",
      "Humidity_Percent             75.0\n",
      "Wind_Speed_KMH               15.0\n",
      "Name: 0, dtype: float64\n"
     ]
    }
   ],
   "source": [
    "print(df.iloc[0])\n",
    "# gives second row(by position)"
   ]
  },
  {
   "cell_type": "code",
   "execution_count": 43,
   "id": "17686cd4-c580-4e6e-a822-c94b9a0fa10b",
   "metadata": {},
   "outputs": [
    {
     "name": "stdout",
     "output_type": "stream",
     "text": [
      "20250101\n"
     ]
    }
   ],
   "source": [
    "print(df.loc[0,\"Date\"])\n",
    "# value at row 0 column \"Date\""
   ]
  },
  {
   "cell_type": "code",
   "execution_count": null,
   "id": "568f3024-5bf7-4cdd-85e8-e0e27759614d",
   "metadata": {},
   "outputs": [],
   "source": []
  }
 ],
 "metadata": {
  "kernelspec": {
   "display_name": "Python 3 (ipykernel)",
   "language": "python",
   "name": "python3"
  },
  "language_info": {
   "codemirror_mode": {
    "name": "ipython",
    "version": 3
   },
   "file_extension": ".py",
   "mimetype": "text/x-python",
   "name": "python",
   "nbconvert_exporter": "python",
   "pygments_lexer": "ipython3",
   "version": "3.12.7"
  }
 },
 "nbformat": 4,
 "nbformat_minor": 5
}
