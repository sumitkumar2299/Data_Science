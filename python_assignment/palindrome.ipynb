{
 "cells": [
  {
   "cell_type": "code",
   "execution_count": 8,
   "id": "08c4a8de-67ca-4aa4-9f16-5f6bfc5fd1aa",
   "metadata": {},
   "outputs": [
    {
     "name": "stdout",
     "output_type": "stream",
     "text": [
      "this is not a palindrome\n",
      "this is not a palindrome\n",
      "this is not a palindrome\n",
      "this is not a palindrome\n",
      "this is not a palindrome\n"
     ]
    }
   ],
   "source": [
    "# checking palindrome \n",
    "\n",
    "string = \"sumit\"\n",
    "rev = \" \"\n",
    "for ch in string: \n",
    "    rev = ch+rev \n",
    "    if(string == rev):\n",
    "        print('this is a palindrome')\n",
    "    else:\n",
    "       print(\"this is not a palindrome\")\n",
    " \n",
    "    "
   ]
  },
  {
   "cell_type": "code",
   "execution_count": null,
   "id": "6fb3dae6-5534-4557-8a8b-f47b44d520b6",
   "metadata": {},
   "outputs": [],
   "source": []
  }
 ],
 "metadata": {
  "kernelspec": {
   "display_name": "Python 3 (ipykernel)",
   "language": "python",
   "name": "python3"
  },
  "language_info": {
   "codemirror_mode": {
    "name": "ipython",
    "version": 3
   },
   "file_extension": ".py",
   "mimetype": "text/x-python",
   "name": "python",
   "nbconvert_exporter": "python",
   "pygments_lexer": "ipython3",
   "version": "3.12.7"
  }
 },
 "nbformat": 4,
 "nbformat_minor": 5
}
