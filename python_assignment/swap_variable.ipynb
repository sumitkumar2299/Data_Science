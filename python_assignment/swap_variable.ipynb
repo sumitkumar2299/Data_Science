{
 "cells": [
  {
   "cell_type": "code",
   "execution_count": 8,
   "id": "5ae9f97c-62ed-4853-abb9-63bcb579c44b",
   "metadata": {},
   "outputs": [
    {
     "name": "stdout",
     "output_type": "stream",
     "text": [
      "before swapping 5 10\n",
      "10\n",
      "5\n",
      "after swapping 10 5\n"
     ]
    }
   ],
   "source": [
    " a= 5\n",
    " b = 10\n",
    "print(\"before swapping\",a,b)\n",
    "temp = b \n",
    "b = a \n",
    "print(temp)\n",
    "print(b)\n",
    "\n",
    "print(\"after swapping\",temp,b)\n"
   ]
  },
  {
   "cell_type": "code",
   "execution_count": null,
   "id": "3c5e48c5-20c7-4c2a-985f-88cd7dad5dcb",
   "metadata": {},
   "outputs": [],
   "source": []
  },
  {
   "cell_type": "code",
   "execution_count": null,
   "id": "e2c4bd1f-2d13-4e7c-94ef-eb2c53a98d81",
   "metadata": {},
   "outputs": [],
   "source": []
  }
 ],
 "metadata": {
  "kernelspec": {
   "display_name": "Python 3 (ipykernel)",
   "language": "python",
   "name": "python3"
  },
  "language_info": {
   "codemirror_mode": {
    "name": "ipython",
    "version": 3
   },
   "file_extension": ".py",
   "mimetype": "text/x-python",
   "name": "python",
   "nbconvert_exporter": "python",
   "pygments_lexer": "ipython3",
   "version": "3.12.7"
  }
 },
 "nbformat": 4,
 "nbformat_minor": 5
}
