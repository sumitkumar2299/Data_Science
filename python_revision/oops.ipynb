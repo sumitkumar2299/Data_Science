{
 "cells": [
  {
   "cell_type": "code",
   "execution_count": null,
   "id": "d606a20e-66fb-4ff5-add9-24c6b86f8290",
   "metadata": {},
   "outputs": [],
   "source": [
    "# some major concepts of oops in python \n",
    "# class \n",
    "# object \n",
    "# attributes \n",
    "# methods \n",
    "# encapsulation \n",
    "# inheritance \n",
    "# polymorphism \n",
    "\n"
   ]
  },
  {
   "cell_type": "code",
   "execution_count": 3,
   "id": "2432a3d3-9c54-42d4-ba40-14b40cf770dd",
   "metadata": {},
   "outputs": [
    {
     "name": "stdout",
     "output_type": "stream",
     "text": [
      "toyota camary\n"
     ]
    }
   ],
   "source": [
    "# defining a class and creating an object \n",
    "\n",
    "class Car:\n",
    "    def __init__ (self, brand,model):\n",
    "        # attribute \n",
    "        self.brand = brand \n",
    "        # attribute \n",
    "        self.model = model\n",
    "    def display_info (self):    \n",
    "        # this is a method \n",
    "        return f'{self.brand} {self.model}'\n",
    "\n",
    "\n",
    "\n",
    "# creating an object (instance) \n",
    "\n",
    "car1 = Car(\"toyota\",\"camary\")\n",
    "print(car1.display_info());\n",
    "\n",
    "\n"
   ]
  },
  {
   "cell_type": "code",
   "execution_count": 5,
   "id": "cba5944a-df0c-465d-96ad-1ec56c885328",
   "metadata": {},
   "outputs": [
    {
     "name": "stdout",
     "output_type": "stream",
     "text": [
      "best sweet\n"
     ]
    }
   ],
   "source": [
    "# practice \n",
    "\n",
    "class Mango:\n",
    "    def __init__ (self,brand,taste):\n",
    "        # attribute \n",
    "        self.brand = brand;\n",
    "        self.taste = taste;\n",
    "    # create a method \n",
    "    def display_info(self):\n",
    "        return f'{self.brand} {self.taste}'\n",
    "\n",
    "# creating an object(instance) \n",
    "mango1 = Mango(\"best\",\"sweet\")\n",
    "print(mango1.display_info())"
   ]
  },
  {
   "cell_type": "code",
   "execution_count": null,
   "id": "465bfd19-645a-4b91-92fd-c971da8d6a33",
   "metadata": {},
   "outputs": [],
   "source": []
  },
  {
   "cell_type": "code",
   "execution_count": 9,
   "id": "6f7cbf72-f054-4d32-8b09-e2391985f35a",
   "metadata": {},
   "outputs": [
    {
     "name": "stdout",
     "output_type": "stream",
     "text": [
      "1500\n"
     ]
    }
   ],
   "source": [
    "# encapsulation -> data hiding \n",
    "\n",
    "class BankAccount:\n",
    "    def __init__(self,balance):\n",
    "        # private attribute \n",
    "       self.__balance = balance \n",
    "        # getter value\n",
    "    def get_balance(self):  \n",
    "         return self.__balance\n",
    "         # setter value\n",
    "    def deposit(self,amount):\n",
    "        if amount>0:\n",
    "            self.__balance += amount\n",
    "\n",
    "# using encapsulation \n",
    "\n",
    "account = BankAccount(1000)\n",
    "account.deposit(500)\n",
    "print(account.get_balance());\n",
    "        \n",
    "\n"
   ]
  },
  {
   "cell_type": "code",
   "execution_count": 10,
   "id": "696e2a78-7a85-40f6-b304-304a0e9a8e89",
   "metadata": {},
   "outputs": [
    {
     "name": "stdout",
     "output_type": "stream",
     "text": [
      "bark\n"
     ]
    }
   ],
   "source": [
    "# inheritance \n",
    "# first make method \n",
    "class Animal: \n",
    "    def speak(self):\n",
    "        return \"animal make a sound\"\n",
    "\n",
    "\n",
    "# inheriting from animal \n",
    "class Dog(Animal):\n",
    "    def speak(self):\n",
    "        return \"bark\"\n",
    "\n",
    "dog = Dog()\n",
    "print(dog.speak())\n",
    "    \n",
    "        "
   ]
  },
  {
   "cell_type": "code",
   "execution_count": 11,
   "id": "71d17247-ef57-4be4-ab23-eed0eb34a8f5",
   "metadata": {},
   "outputs": [
    {
     "name": "stdout",
     "output_type": "stream",
     "text": [
      "method A\n",
      "method B\n"
     ]
    }
   ],
   "source": [
    "# multiple inheritance \n",
    "\n",
    "class A:\n",
    "    def method_a(self):\n",
    "        return \"method A\"\n",
    "\n",
    "class B: \n",
    "    def method_b(self): \n",
    "        return \"method B\"\n",
    "\n",
    "\n",
    "# multiple inheritance \n",
    "class C(A,B): \n",
    "    pass\n",
    "\n",
    "obj = C()\n",
    "print(obj.method_a())\n",
    "print(obj.method_b())\n",
    "\n",
    "# multiple inheritance allows a class to inherit features from multiple parent classes "
   ]
  },
  {
   "cell_type": "code",
   "execution_count": 12,
   "id": "6d25bc62-1cfe-442c-a0fc-aa7bf588c93e",
   "metadata": {},
   "outputs": [
    {
     "name": "stdout",
     "output_type": "stream",
     "text": [
      "birds can fly\n",
      "penguin cannot fly\n"
     ]
    }
   ],
   "source": [
    "# polymorphism -> same method different behaviour \n",
    "\n",
    "class Bird:\n",
    "    def fly(self):\n",
    "        return \"birds can fly\"\n",
    "\n",
    "class Penguin(Bird):\n",
    "    def fly(self):\n",
    "        return \"penguin cannot fly\"\n",
    "\n",
    "bird = Bird()\n",
    "penguin = Penguin()\n",
    "\n",
    "print(bird.fly())\n",
    "print(penguin.fly())\n",
    "\n",
    "\n",
    "# use of polymorphism - it provides flexibility by allowing different classes to define the same method differently. "
   ]
  },
  {
   "cell_type": "code",
   "execution_count": 14,
   "id": "4801d36f-6c16-4e7d-9210-0c514845df33",
   "metadata": {},
   "outputs": [
    {
     "name": "stdout",
     "output_type": "stream",
     "text": [
      "16\n"
     ]
    }
   ],
   "source": [
    "# abstraction -> hidign implementation details \n",
    "\n",
    "from abc import ABC, abstractmethod \n",
    "\n",
    "class Shape(ABC):\n",
    "    @abstractmethod\n",
    "    def area(self):\n",
    "        pass \n",
    "class Square(Shape):\n",
    "    def __init__(self,side):\n",
    "        self.side = side\n",
    "\n",
    "    def area(self):\n",
    "           return self.side*self.side\n",
    "\n",
    "square = Square(4)\n",
    "print(square.area())\n",
    "\n",
    "\n",
    "# abstaraction enforces consistent implementation across child classes \n",
    "\n",
    "\n"
   ]
  },
  {
   "cell_type": "code",
   "execution_count": 16,
   "id": "a94a4cfa-3184-4a3c-a236-ded9f8b3a390",
   "metadata": {},
   "outputs": [
    {
     "name": "stdout",
     "output_type": "stream",
     "text": [
      "Book:python basics\n",
      "300\n"
     ]
    }
   ],
   "source": [
    "# magic methds (dunder methods)\n",
    "# example __str__ and __len__\n",
    "\n",
    "class Book:\n",
    "    def __init__(self,title,pages):\n",
    "        self.title = title\n",
    "        self.pages = pages \n",
    "        # string representation \n",
    "    def __str__(self) : \n",
    "         return f\"Book:{self.title}\"\n",
    "    def __len__(self):\n",
    "        return self.pages\n",
    "\n",
    "book = Book(\"python basics\",300)\n",
    "print(str(book))\n",
    "print(len(book))\n",
    "\n",
    "\n"
   ]
  },
  {
   "cell_type": "code",
   "execution_count": 18,
   "id": "adfa08b2-5210-4e53-a3cb-7e67d0832c6e",
   "metadata": {},
   "outputs": [
    {
     "name": "stdout",
     "output_type": "stream",
     "text": [
      "instance method\n",
      "i am a class variable\n",
      "static method\n"
     ]
    }
   ],
   "source": [
    "# classic vs static method \n",
    "\n",
    "class Example: \n",
    "    class_var = \"i am a class variable\"\n",
    "    def instance_method(self):\n",
    "        return \"instance method\"\n",
    "    @classmethod\n",
    "    def class_method(cls):\n",
    "        return cls.class_var\n",
    "    @staticmethod \n",
    "    def static_method():\n",
    "        return \"static method\"\n",
    "\n",
    "obj = Example()\n",
    "print(obj.instance_method())\n",
    "print(Example.class_method())\n",
    "print(Example.static_method())\n",
    "\n"
   ]
  },
  {
   "cell_type": "code",
   "execution_count": null,
   "id": "bdcb80d2-6433-4638-a387-654a61568406",
   "metadata": {},
   "outputs": [],
   "source": []
  }
 ],
 "metadata": {
  "kernelspec": {
   "display_name": "Python 3 (ipykernel)",
   "language": "python",
   "name": "python3"
  },
  "language_info": {
   "codemirror_mode": {
    "name": "ipython",
    "version": 3
   },
   "file_extension": ".py",
   "mimetype": "text/x-python",
   "name": "python",
   "nbconvert_exporter": "python",
   "pygments_lexer": "ipython3",
   "version": "3.12.7"
  }
 },
 "nbformat": 4,
 "nbformat_minor": 5
}
