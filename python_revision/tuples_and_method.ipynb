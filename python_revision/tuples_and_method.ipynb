{
 "cells": [
  {
   "cell_type": "code",
   "execution_count": 2,
   "id": "64cb37f5-4814-4874-86bc-a24e42073927",
   "metadata": {},
   "outputs": [
    {
     "name": "stdout",
     "output_type": "stream",
     "text": [
      "(1, 2, 3, 4, 5, 6)\n",
      "(1, 'hello', 3.14, True)\n",
      "(42,)\n"
     ]
    }
   ],
   "source": [
    "# empty tuple \n",
    "empty_tuple = ()\n",
    "numbers = (1,2,3,4,5,6)\n",
    "print(numbers)\n",
    "# mixed data types \n",
    "mixed_tuple = (1,\"hello\",3.14,True)\n",
    "print(mixed_tuple)\n",
    "# single element tuple \n",
    "single_element = (42,)\n",
    "print(single_element)\n"
   ]
  },
  {
   "cell_type": "code",
   "execution_count": 4,
   "id": "16ec6b16-be1a-437e-bdbb-0de550b55959",
   "metadata": {},
   "outputs": [
    {
     "name": "stdout",
     "output_type": "stream",
     "text": [
      "1\n",
      "2\n"
     ]
    }
   ],
   "source": [
    "# common tuple methods \n",
    "tuple = (1,23,4,5)\n",
    "print(tuple.count(23))\n",
    "print(tuple.index(4))"
   ]
  },
  {
   "cell_type": "code",
   "execution_count": 5,
   "id": "42dd4b57-9edf-4d62-94f0-45bfbc9bc70a",
   "metadata": {},
   "outputs": [
    {
     "name": "stdout",
     "output_type": "stream",
     "text": [
      "20\n",
      "(20, 30)\n"
     ]
    }
   ],
   "source": [
    "# accesing tuple elements \n",
    "my_tuple = (10,20,30,40)\n",
    "# indexing \n",
    "print(my_tuple[1])\n",
    "# slicing \n",
    "print(my_tuple[1:3])"
   ]
  },
  {
   "cell_type": "code",
   "execution_count": null,
   "id": "666533a8-16ea-4e92-a06d-7d037f5cfcc0",
   "metadata": {},
   "outputs": [],
   "source": []
  },
  {
   "cell_type": "code",
   "execution_count": 8,
   "id": "6b349a36-7fdc-4f33-a515-4c4081f16c75",
   "metadata": {},
   "outputs": [
    {
     "name": "stdout",
     "output_type": "stream",
     "text": [
      "alice\n",
      "25\n"
     ]
    }
   ],
   "source": [
    "# tuple packing and unpacking \n",
    "# person \n",
    "person = (\"alice\",25,\"engineer\")\n",
    "# unpacking \n",
    "# just like destructuring in javascript \n",
    "name,age,profession = person \n",
    "print(name)\n",
    "print(age)"
   ]
  },
  {
   "cell_type": "code",
   "execution_count": null,
   "id": "4cb6be65-2b11-4a8c-aae8-d82fc1369ef5",
   "metadata": {},
   "outputs": [],
   "source": [
    "# "
   ]
  },
  {
   "cell_type": "code",
   "execution_count": null,
   "id": "47370517-53a0-4ef7-b360-f2e7eab26783",
   "metadata": {},
   "outputs": [],
   "source": []
  }
 ],
 "metadata": {
  "kernelspec": {
   "display_name": "Python 3 (ipykernel)",
   "language": "python",
   "name": "python3"
  },
  "language_info": {
   "codemirror_mode": {
    "name": "ipython",
    "version": 3
   },
   "file_extension": ".py",
   "mimetype": "text/x-python",
   "name": "python",
   "nbconvert_exporter": "python",
   "pygments_lexer": "ipython3",
   "version": "3.12.7"
  }
 },
 "nbformat": 4,
 "nbformat_minor": 5
}
