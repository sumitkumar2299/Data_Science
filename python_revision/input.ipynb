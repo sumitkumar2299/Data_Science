{
 "cells": [
  {
   "cell_type": "code",
   "execution_count": 1,
   "id": "b945786f-b724-4d8a-b29e-3a4482533bbf",
   "metadata": {},
   "outputs": [
    {
     "name": "stdin",
     "output_type": "stream",
     "text": [
      "enter your name sumit\n"
     ]
    },
    {
     "name": "stdout",
     "output_type": "stream",
     "text": [
      "hello sumit\n"
     ]
    }
   ],
   "source": [
    "name = input(\"enter your name\")\n",
    "print(\"hello\",name)"
   ]
  },
  {
   "cell_type": "code",
   "execution_count": 2,
   "id": "c259cd56-01f3-4a37-9dc7-97e1e4f06de4",
   "metadata": {},
   "outputs": [
    {
     "name": "stdin",
     "output_type": "stream",
     "text": [
      "enter your age 15\n",
      "enter the price 52\n"
     ]
    },
    {
     "name": "stdout",
     "output_type": "stream",
     "text": [
      "15\n",
      "52\n"
     ]
    }
   ],
   "source": [
    "age = int(input(\"enter your age\"))\n",
    "price = int(input(\"enter the price\"))\n",
    "print(age)\n",
    "print(price)"
   ]
  },
  {
   "cell_type": "code",
   "execution_count": 6,
   "id": "f4fba2c8-02eb-431d-bc8f-771e9d244177",
   "metadata": {},
   "outputs": [
    {
     "name": "stdout",
     "output_type": "stream",
     "text": [
      "36\n",
      "36\n",
      "512\n"
     ]
    }
   ],
   "source": [
    "result = (10+2)*3\n",
    "print(result)\n",
    "\n",
    "result1 = (10+2)*3\n",
    "print(result1)\n",
    "\n",
    "result2 = 2 ** 3 ** 2\n",
    "print(result2)\n",
    "\n"
   ]
  },
  {
   "cell_type": "code",
   "execution_count": null,
   "id": "07db7286-5323-4b99-8f59-f7c53d55b62b",
   "metadata": {},
   "outputs": [],
   "source": []
  },
  {
   "cell_type": "code",
   "execution_count": null,
   "id": "9d3a641f-74cc-43bd-bfaf-33f683cf1c2a",
   "metadata": {},
   "outputs": [],
   "source": []
  }
 ],
 "metadata": {
  "kernelspec": {
   "display_name": "Python 3 (ipykernel)",
   "language": "python",
   "name": "python3"
  },
  "language_info": {
   "codemirror_mode": {
    "name": "ipython",
    "version": 3
   },
   "file_extension": ".py",
   "mimetype": "text/x-python",
   "name": "python",
   "nbconvert_exporter": "python",
   "pygments_lexer": "ipython3",
   "version": "3.12.7"
  }
 },
 "nbformat": 4,
 "nbformat_minor": 5
}
