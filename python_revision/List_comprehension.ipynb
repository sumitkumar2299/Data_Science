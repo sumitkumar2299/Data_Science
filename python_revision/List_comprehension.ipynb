{
 "cells": [
  {
   "cell_type": "code",
   "execution_count": 1,
   "id": "de0ee7a6-1d00-4247-ab80-2e007d82cbbf",
   "metadata": {},
   "outputs": [
    {
     "name": "stdout",
     "output_type": "stream",
     "text": [
      "[0, 1, 4, 9, 16]\n",
      "[0, 1, 8, 27, 64, 125]\n"
     ]
    }
   ],
   "source": [
    "# list comrehension -> making your code more readabele and pythonic \n",
    "\n",
    "\n",
    "# syntax -> [expression for item in iterable]\n",
    "\n",
    "squares = [x**2 for x in range(5)]\n",
    "print(squares)\n",
    "\n",
    "triplet = [x*x*x for x in range(6)]\n",
    "print(triplet)"
   ]
  },
  {
   "cell_type": "code",
   "execution_count": 2,
   "id": "12a0e91b-3a8c-4d86-a310-58a765546917",
   "metadata": {},
   "outputs": [
    {
     "name": "stdout",
     "output_type": "stream",
     "text": [
      "[0, 2, 4, 6, 8]\n"
     ]
    }
   ],
   "source": [
    "# using if condition in list comprehension \n",
    "\n",
    "even = [x for x in range(10) if x%2 == 0]\n",
    "print(even)\n",
    "\n",
    "even = [x for x in range(2) if x%2==0]"
   ]
  },
  {
   "cell_type": "code",
   "execution_count": 3,
   "id": "098fe76e-4bdc-4afc-a518-0c38a56ffb36",
   "metadata": {},
   "outputs": [
    {
     "name": "stdout",
     "output_type": "stream",
     "text": [
      "['even', 'odd', 'even', 'odd', 'even']\n"
     ]
    }
   ],
   "source": [
    "# using if else condition in list comprehension \n",
    "\n",
    "numbers = [\"even\" if x%2==0 else \"odd\" for x in range(5)]\n",
    "print(numbers)"
   ]
  },
  {
   "cell_type": "code",
   "execution_count": 5,
   "id": "190e3335-8fb7-4f7c-99d6-a8e0102a162e",
   "metadata": {},
   "outputs": [
    {
     "name": "stdout",
     "output_type": "stream",
     "text": [
      "[(0, 0), (0, 1), (0, 2), (1, 0), (1, 1), (1, 2)]\n"
     ]
    }
   ],
   "source": [
    "# nested loops in list comprehension \n",
    "# creating pairs from two list\n",
    "pairs = [(x,y) for x in range(2) for y in range(3)]\n",
    "print(pairs)\n",
    "\n"
   ]
  },
  {
   "cell_type": "code",
   "execution_count": 6,
   "id": "efb8c190-3541-40c4-baa9-d616d8c733cf",
   "metadata": {},
   "outputs": [
    {
     "name": "stdout",
     "output_type": "stream",
     "text": [
      "['HELLO', 'WORLD', 'PYTHON']\n"
     ]
    }
   ],
   "source": [
    "# list comprehension with function \n",
    "\n",
    "words = [\"hello\",\"world\",\"python\"]\n",
    "upper_words = [word.upper() for word in words]\n",
    "print(upper_words)"
   ]
  },
  {
   "cell_type": "code",
   "execution_count": 7,
   "id": "b66ccaac-239c-4fa7-9a02-286ad4d276cf",
   "metadata": {},
   "outputs": [
    {
     "name": "stdout",
     "output_type": "stream",
     "text": [
      "[1, 2, 3, 4, 5, 6]\n"
     ]
    }
   ],
   "source": [
    "# list comprehension with nested list comprehesion \n",
    "\n",
    "matrix = [[1,2],[3,4,],[5,6,]]\n",
    "flattened = [num for row in matrix for num in row]\n",
    "print(flattened)"
   ]
  },
  {
   "cell_type": "code",
   "execution_count": 9,
   "id": "0f1b181c-66e8-4d7b-a2bf-1c605315688b",
   "metadata": {},
   "outputs": [
    {
     "name": "stdout",
     "output_type": "stream",
     "text": [
      "{1, 2, 3, 4}\n",
      "{0: 0, 1: 1, 2: 4, 3: 9, 4: 16}\n"
     ]
    }
   ],
   "source": [
    "# list comprehension with set and dictionary comprehension \n",
    "\n",
    "unique_numbers = {x for x in [1,2,2,3,4,4]}\n",
    "print(unique_numbers)\n",
    "\n",
    "squared_dict = {x:x**2 for x in range(5)}\n",
    "print(squared_dict)"
   ]
  },
  {
   "cell_type": "code",
   "execution_count": 10,
   "id": "c1f1ed7f-424d-48fd-89b3-aabe3125cdd8",
   "metadata": {},
   "outputs": [
    {
     "name": "stdout",
     "output_type": "stream",
     "text": [
      "loop time: 0.3946573734283447\n",
      "list comrehension time: 0.2520909309387207\n"
     ]
    }
   ],
   "source": [
    "# performance comparison -> list comprehensio vs loop \n",
    "# list comprehension are generally faster than loops \n",
    "import time \n",
    "\n",
    "start = time.time()\n",
    "squares_loop = []\n",
    "\n",
    "for x in range(10**6):\n",
    "    squares_loop.append(x**2)\n",
    "print(\"loop time:\", time.time()-start)\n",
    "\n",
    "\n",
    "# using list comprehension \n",
    "\n",
    "start = time.time()\n",
    "squares_comp = [x**2 for x in range(10**6)]\n",
    "print(\"list comrehension time:\",time.time()-start)"
   ]
  },
  {
   "cell_type": "code",
   "execution_count": null,
   "id": "9fb2c4af-d4ad-46a9-aaed-fb65800a2d61",
   "metadata": {},
   "outputs": [],
   "source": []
  }
 ],
 "metadata": {
  "kernelspec": {
   "display_name": "Python 3 (ipykernel)",
   "language": "python",
   "name": "python3"
  },
  "language_info": {
   "codemirror_mode": {
    "name": "ipython",
    "version": 3
   },
   "file_extension": ".py",
   "mimetype": "text/x-python",
   "name": "python",
   "nbconvert_exporter": "python",
   "pygments_lexer": "ipython3",
   "version": "3.12.7"
  }
 },
 "nbformat": 4,
 "nbformat_minor": 5
}
