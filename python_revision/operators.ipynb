{
 "cells": [
  {
   "cell_type": "markdown",
   "id": "edb02eb1-9423-476b-b875-3536ccc176b7",
   "metadata": {},
   "source": [
    "## membership and identity operators "
   ]
  },
  {
   "cell_type": "code",
   "execution_count": 5,
   "id": "4802da90-2fd3-425e-8496-c5e9b58890c5",
   "metadata": {},
   "outputs": [
    {
     "name": "stdout",
     "output_type": "stream",
     "text": [
      "True\n",
      "True\n",
      "False\n",
      "True\n"
     ]
    },
    {
     "name": "stderr",
     "output_type": "stream",
     "text": [
      "<>:4: SyntaxWarning: \"is\" with 'str' literal. Did you mean \"==\"?\n",
      "<>:5: SyntaxWarning: \"is not\" with 'str' literal. Did you mean \"!=\"?\n",
      "<>:4: SyntaxWarning: \"is\" with 'str' literal. Did you mean \"==\"?\n",
      "<>:5: SyntaxWarning: \"is not\" with 'str' literal. Did you mean \"!=\"?\n",
      "C:\\Users\\Sumit\\AppData\\Local\\Temp\\ipykernel_23056\\1155789457.py:4: SyntaxWarning: \"is\" with 'str' literal. Did you mean \"==\"?\n",
      "  print(\"s\" is text)\n",
      "C:\\Users\\Sumit\\AppData\\Local\\Temp\\ipykernel_23056\\1155789457.py:5: SyntaxWarning: \"is not\" with 'str' literal. Did you mean \"!=\"?\n",
      "  print(\"s\" is not text)\n"
     ]
    }
   ],
   "source": [
    "text = \"sumit\"\n",
    "print(\"u\" in text)\n",
    "print(\"x\" not in text)\n",
    "print(\"s\" is text)\n",
    "print(\"s\" is not text)"
   ]
  },
  {
   "cell_type": "code",
   "execution_count": null,
   "id": "59f5b3cf-322e-4fe6-a1f9-160f39745121",
   "metadata": {},
   "outputs": [],
   "source": []
  }
 ],
 "metadata": {
  "kernelspec": {
   "display_name": "Python 3 (ipykernel)",
   "language": "python",
   "name": "python3"
  },
  "language_info": {
   "codemirror_mode": {
    "name": "ipython",
    "version": 3
   },
   "file_extension": ".py",
   "mimetype": "text/x-python",
   "name": "python",
   "nbconvert_exporter": "python",
   "pygments_lexer": "ipython3",
   "version": "3.12.7"
  }
 },
 "nbformat": 4,
 "nbformat_minor": 5
}
