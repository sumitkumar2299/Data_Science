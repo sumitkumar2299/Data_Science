{
 "cells": [
  {
   "cell_type": "code",
   "execution_count": 11,
   "id": "abad5e4c-872e-49ea-9068-02e88f070404",
   "metadata": {},
   "outputs": [
    {
     "name": "stdout",
     "output_type": "stream",
     "text": [
      "{'name': 'sumit', 'age': 20, 'grade': 'a'}\n",
      "{}\n",
      "{'name': 'john', 'age': 30, 'city': 'new york'}\n",
      "sumit\n",
      "20\n",
      "not found\n"
     ]
    }
   ],
   "source": [
    "# creating a dictionary \n",
    "empty_dictionary = {}\n",
    "# dictionary with key-value pairs \n",
    "student = {\n",
    "    \"name\":\"sumit\",\n",
    "    \"age\" :20,\n",
    "    \"grade\":\"a\"\n",
    "}\n",
    "print(student)\n",
    "print(empty_dictionary)\n",
    "\n",
    "# using dict constructor \n",
    "person = dict(name = \"john\",age = 30,city=\"new york\")\n",
    "print(person)\n",
    "\n",
    "# accesing dictionary elements \n",
    "# using key \n",
    "print(student[\"name\"])\n",
    "\n",
    "# using get to avoid key error \n",
    "print(student.get(\"age\"))\n",
    "print(student.get(\"height\",\"not found\"))\n",
    "\n"
   ]
  },
  {
   "cell_type": "code",
   "execution_count": 1,
   "id": "28518797-ece6-4735-8fcf-6a9dba049088",
   "metadata": {},
   "outputs": [
    {
     "name": "stdout",
     "output_type": "stream",
     "text": [
      "dict_keys(['name', 'roll_no'])\n",
      "dict_values(['sumit', 20])\n",
      "sumit\n"
     ]
    }
   ],
   "source": [
    "\n",
    "student1 = {\n",
    "    \"name\":\"sumit\",\n",
    "    \"roll_no\":20,\n",
    "}\n",
    "print(student1.keys())\n",
    "print(student1.values())\n",
    "print(student1.get(\"name\"))"
   ]
  },
  {
   "cell_type": "code",
   "execution_count": 15,
   "id": "2314c1c3-f2dc-4c7f-b3fa-04e91392df46",
   "metadata": {},
   "outputs": [
    {
     "name": "stdout",
     "output_type": "stream",
     "text": [
      "dict_keys(['name', 'branch', 'reg.no'])\n",
      "dict_values(['sumit', 'cse(iot)', 22155135001])\n",
      "dict_items([('name', 'sumit'), ('branch', 'cse(iot)'), ('reg.no', 22155135001)])\n"
     ]
    }
   ],
   "source": [
    "# common dictionary methods \n",
    "student1 = {\n",
    "    \"name\": \"sumit\",\n",
    "    \"branch\": \"cse(iot)\",\n",
    "    \"reg.no\":22155135001\n",
    "}\n",
    "\n",
    "print(student1.keys())\n",
    "print(student1.values())\n",
    "# returns key-pairs as tuple (array of tuples)\n",
    "print(student1.items())\n",
    "\n",
    "    "
   ]
  },
  {
   "cell_type": "code",
   "execution_count": null,
   "id": "504ef7ca-58fa-4441-b26a-d34f37813944",
   "metadata": {},
   "outputs": [],
   "source": []
  }
 ],
 "metadata": {
  "kernelspec": {
   "display_name": "Python 3 (ipykernel)",
   "language": "python",
   "name": "python3"
  },
  "language_info": {
   "codemirror_mode": {
    "name": "ipython",
    "version": 3
   },
   "file_extension": ".py",
   "mimetype": "text/x-python",
   "name": "python",
   "nbconvert_exporter": "python",
   "pygments_lexer": "ipython3",
   "version": "3.12.7"
  }
 },
 "nbformat": 4,
 "nbformat_minor": 5
}
