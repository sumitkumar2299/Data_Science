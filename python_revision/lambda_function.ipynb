{
 "cells": [
  {
   "cell_type": "code",
   "execution_count": 1,
   "id": "7e9fe716-4061-4458-96a8-d48aab9f83fb",
   "metadata": {},
   "outputs": [
    {
     "name": "stdout",
     "output_type": "stream",
     "text": [
      "25\n"
     ]
    }
   ],
   "source": [
    "# like arrow function of javascript \n",
    "\n",
    "square = lambda x: x**2\n",
    "print(square(5))"
   ]
  },
  {
   "cell_type": "code",
   "execution_count": 2,
   "id": "5005ffbd-c42d-4e29-acda-a4d654bd3ee1",
   "metadata": {},
   "outputs": [
    {
     "name": "stdout",
     "output_type": "stream",
     "text": [
      "[1, 4, 9, 16]\n"
     ]
    }
   ],
   "source": [
    "# using lambda function with map filter and reduce \n",
    "\n",
    "numbers = [1,2,3,4]\n",
    "squared = list(map(lambda x:x**2,numbers))\n",
    "print(squared)"
   ]
  },
  {
   "cell_type": "code",
   "execution_count": 3,
   "id": "31b5c5d0-cb0e-447c-bdc0-b97473d40622",
   "metadata": {},
   "outputs": [
    {
     "name": "stdout",
     "output_type": "stream",
     "text": [
      "[2, 4, 6]\n"
     ]
    }
   ],
   "source": [
    "# using filter with lambda \n",
    "\n",
    "numbers = [1,2,3,4,5,6]\n",
    "evens = list(filter(lambda x:x%2==0,numbers))\n",
    "print(evens)"
   ]
  },
  {
   "cell_type": "code",
   "execution_count": 4,
   "id": "6465a0d3-264a-4dc4-82ae-fdf10a386fa9",
   "metadata": {},
   "outputs": [
    {
     "name": "stdout",
     "output_type": "stream",
     "text": [
      "24\n"
     ]
    }
   ],
   "source": [
    "# using reduce with lambda function \n",
    "\n",
    "from functools import reduce \n",
    "\n",
    "numbers = [1,2,3,4]\n",
    "product = reduce(lambda x,y:x*y,numbers)\n",
    "print(product)"
   ]
  },
  {
   "cell_type": "code",
   "execution_count": 7,
   "id": "b65dd956-ae64-4f69-a44e-767442e13e14",
   "metadata": {},
   "outputs": [
    {
     "name": "stdout",
     "output_type": "stream",
     "text": [
      "10\n",
      "10\n"
     ]
    }
   ],
   "source": [
    "# lambda with multiple arguments \n",
    "\n",
    "add = lambda x,y: x+y\n",
    "print(add(3,7))\n",
    "\n",
    "\n",
    "\n",
    "# finding the maximum of two numbers \n",
    "\n",
    "maximum = lambda x,y: x if x>y else y\n",
    "print(maximum(10,5))\n"
   ]
  },
  {
   "cell_type": "code",
   "execution_count": null,
   "id": "e01a5c30-c235-4565-9ba5-b4373558838f",
   "metadata": {},
   "outputs": [],
   "source": [
    "# use of lambda functions \n",
    "\n",
    "# the function is short and simple \n",
    "# used temporarily inside another function \n",
    "# avoiding defining a full function with def \n",
    "\n",
    "\n",
    "\n",
    "# avoid lambda function when : \n",
    "\n",
    "# the function is complex \n",
    "# multiple operations/statement are needed \n"
   ]
  }
 ],
 "metadata": {
  "kernelspec": {
   "display_name": "Python 3 (ipykernel)",
   "language": "python",
   "name": "python3"
  },
  "language_info": {
   "codemirror_mode": {
    "name": "ipython",
    "version": 3
   },
   "file_extension": ".py",
   "mimetype": "text/x-python",
   "name": "python",
   "nbconvert_exporter": "python",
   "pygments_lexer": "ipython3",
   "version": "3.12.7"
  }
 },
 "nbformat": 4,
 "nbformat_minor": 5
}
