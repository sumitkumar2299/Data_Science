{
 "cells": [
  {
   "cell_type": "code",
   "execution_count": 4,
   "id": "41803064-cb8c-44fb-a333-136917b2591a",
   "metadata": {},
   "outputs": [
    {
     "name": "stdout",
     "output_type": "stream",
     "text": [
      "{\"name\": \"sumit\", \"age\": 20, \"city\": \"patna\"}\n",
      "<class 'str'>\n"
     ]
    }
   ],
   "source": [
    "# json -> javascript object notation \n",
    "\n",
    "import json \n",
    "data = {\"name\":\"sumit\",\"age\":20,\"city\":\"patna\"}\n",
    "# converted into string \n",
    "json_string = json.dumps(data)\n",
    "print(json_string)\n",
    "print(type(json_string))\n"
   ]
  },
  {
   "cell_type": "code",
   "execution_count": 6,
   "id": "300da613-8899-44ca-944f-318e95b4c7d8",
   "metadata": {},
   "outputs": [],
   "source": [
    "# json.dumps() - write json data to a file \n",
    "\n",
    "with open(\"data.json\",\"w\") as file : \n",
    "    json.dump(data,file)\n"
   ]
  },
  {
   "cell_type": "code",
   "execution_count": 10,
   "id": "d5a24285-09a0-42c7-92f7-5006d84c5fe0",
   "metadata": {},
   "outputs": [
    {
     "name": "stdout",
     "output_type": "stream",
     "text": [
      "{'name': 'sumit', 'age': 20, 'city': 'patna'}\n",
      "<class 'dict'>\n"
     ]
    }
   ],
   "source": [
    "# json.loads() - convert json string to python object \n",
    "\n",
    "json_data = '{\"name\":\"sumit\",\"age\":20,\"city\":\"patna\"}'\n",
    "python_obj = json.loads(json_data)\n",
    "print(python_obj)\n",
    "print(type(python_obj))\n"
   ]
  },
  {
   "cell_type": "code",
   "execution_count": 12,
   "id": "a1530697-0ffe-4e9d-9915-b5bfa6c6bee4",
   "metadata": {},
   "outputs": [
    {
     "name": "stdout",
     "output_type": "stream",
     "text": [
      "{'name': 'sumit', 'age': 20, 'city': 'patna'}\n"
     ]
    }
   ],
   "source": [
    "# json.load()  read json data from a file \n",
    "\n",
    "with open(\"data.json\",\"r\") as file:\n",
    "    python_data = json.load(file)\n",
    "print(python_data)"
   ]
  },
  {
   "cell_type": "code",
   "execution_count": 13,
   "id": "6be67580-67a8-4eab-8ad3-a59aab25d4b8",
   "metadata": {},
   "outputs": [
    {
     "name": "stdout",
     "output_type": "stream",
     "text": [
      "{\n",
      "    \"name\": \"sumit\",\n",
      "    \"age\": 20,\n",
      "    \"city\": \"patna\"\n",
      "}\n"
     ]
    }
   ],
   "source": [
    "# formatting json output \n",
    "\n",
    "formatted_json = json.dumps(data,indent = 4)\n",
    "print(formatted_json)"
   ]
  },
  {
   "cell_type": "code",
   "execution_count": null,
   "id": "b9ec3704-65f9-4d1c-884d-00bc2696fd40",
   "metadata": {},
   "outputs": [],
   "source": []
  }
 ],
 "metadata": {
  "kernelspec": {
   "display_name": "Python 3 (ipykernel)",
   "language": "python",
   "name": "python3"
  },
  "language_info": {
   "codemirror_mode": {
    "name": "ipython",
    "version": 3
   },
   "file_extension": ".py",
   "mimetype": "text/x-python",
   "name": "python",
   "nbconvert_exporter": "python",
   "pygments_lexer": "ipython3",
   "version": "3.12.7"
  }
 },
 "nbformat": 4,
 "nbformat_minor": 5
}
