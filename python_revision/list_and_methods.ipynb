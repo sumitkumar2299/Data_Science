{
 "cells": [
  {
   "cell_type": "code",
   "execution_count": 1,
   "id": "ca7a388b-199e-4fa0-99cd-ad014359e9fe",
   "metadata": {},
   "outputs": [
    {
     "name": "stdout",
     "output_type": "stream",
     "text": [
      "[1, 'hello', 3.14, True]\n"
     ]
    }
   ],
   "source": [
    "# creating a list \n",
    "my_list = []\n",
    "# list with elements \n",
    "numbers = [1,2,3,4,5]\n",
    "# mixed data types \n",
    "mixed_list = [1,\"hello\",3.14,True]\n",
    "print(mixed_list)\n"
   ]
  },
  {
   "cell_type": "code",
   "execution_count": 14,
   "id": "5ffe0711-69be-4764-ae39-3bd0684f075e",
   "metadata": {},
   "outputs": [
    {
     "name": "stdout",
     "output_type": "stream",
     "text": [
      "[10]\n",
      "[10, 6, 7, 8, 9, 10]\n",
      "[10, 6, 'python', 7, 8, 9, 10]\n",
      "[10, 'python', 7, 8, 9, 10]\n",
      "[10, 'python', 8, 9, 10]\n",
      "2\n",
      "1\n",
      "[10, 'python', 8, 9, 10]\n"
     ]
    }
   ],
   "source": [
    "# common list methods \n",
    "my_list = []\n",
    "my_list.append(10)\n",
    "print(my_list)\n",
    "my_list.extend([6,7,8,9,10])\n",
    "print(my_list)\n",
    "my_list.insert(2,\"python\")\n",
    "print(my_list)\n",
    "my_list.remove(6)\n",
    "print(my_list)\n",
    "my_list.pop(2)\n",
    "print(my_list)\n",
    "print(my_list.index(8))\n",
    "print(my_list.count(8))\n",
    "# you cannot sort two data types like string and integer\n",
    "\n",
    "# print(my_list.sort())\n",
    "# print(my_list.reverse())\n",
    "print(my_list.copy())\n",
    "\n"
   ]
  },
  {
   "cell_type": "code",
   "execution_count": 15,
   "id": "efd52607-88d7-4d9c-bee7-50afa0fd2b8c",
   "metadata": {},
   "outputs": [
    {
     "name": "stdout",
     "output_type": "stream",
     "text": [
      "['apple', 'banana', 'cherry', 'orange']\n",
      "['apple', 'banana', 'cherry', 'orange']\n"
     ]
    }
   ],
   "source": [
    "# example usage \n",
    "fruits = [\"apple\",\"banana\",\"cherry\"]\n",
    "fruits.append(\"orange\")\n",
    "print(fruits)\n",
    "fruits.sort()\n",
    "print(fruits)"
   ]
  },
  {
   "cell_type": "code",
   "execution_count": null,
   "id": "10f92d30-d104-4ab8-bafa-009c5787b161",
   "metadata": {},
   "outputs": [],
   "source": []
  }
 ],
 "metadata": {
  "kernelspec": {
   "display_name": "Python 3 (ipykernel)",
   "language": "python",
   "name": "python3"
  },
  "language_info": {
   "codemirror_mode": {
    "name": "ipython",
    "version": 3
   },
   "file_extension": ".py",
   "mimetype": "text/x-python",
   "name": "python",
   "nbconvert_exporter": "python",
   "pygments_lexer": "ipython3",
   "version": "3.12.7"
  }
 },
 "nbformat": 4,
 "nbformat_minor": 5
}
