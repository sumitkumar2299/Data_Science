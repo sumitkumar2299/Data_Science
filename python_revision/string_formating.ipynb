{
 "cells": [
  {
   "cell_type": "code",
   "execution_count": 2,
   "id": "835097a5-5d48-48ab-9fe1-f6fe4613414e",
   "metadata": {},
   "outputs": [
    {
     "name": "stdout",
     "output_type": "stream",
     "text": [
      "my name is sumit and i am 25 years old\n"
     ]
    }
   ],
   "source": [
    "# using format \n",
    "name = \"sumit\"\n",
    "age = 25\n",
    "print(\"my name is {} and i am {} years old\".format(name,age))\n"
   ]
  },
  {
   "cell_type": "code",
   "execution_count": null,
   "id": "c72ef38b-a0bd-4faf-b02c-51e469e7ded0",
   "metadata": {},
   "outputs": [],
   "source": []
  },
  {
   "cell_type": "code",
   "execution_count": 5,
   "id": "e2c0a03f-15ba-44d3-9217-a3a023b11df2",
   "metadata": {},
   "outputs": [
    {
     "name": "stdout",
     "output_type": "stream",
     "text": [
      "my name is sumit and i am 21 years old\n"
     ]
    }
   ],
   "source": [
    "# using f-strings \n",
    "name = \"sumit\"\n",
    "age = 21\n",
    "print(f\"my name is {name} and i am {age} years old\")"
   ]
  },
  {
   "cell_type": "code",
   "execution_count": 6,
   "id": "d39f8b01-87f3-44a6-b581-bf811afd919c",
   "metadata": {},
   "outputs": [
    {
     "name": "stdout",
     "output_type": "stream",
     "text": [
      "sum of 5 and 10 is 15\n"
     ]
    }
   ],
   "source": [
    "# expression inside f string \n",
    "a = 5\n",
    "b = 10\n",
    "print(f\"sum of {a} and {b} is {a+b}\")"
   ]
  },
  {
   "cell_type": "code",
   "execution_count": 10,
   "id": "dd9fc57a-af8f-4091-8068-f458d971a666",
   "metadata": {},
   "outputs": [
    {
     "name": "stdout",
     "output_type": "stream",
     "text": [
      "pi is rounded to 2 decimal places:3.14\n"
     ]
    }
   ],
   "source": [
    "# formating numbers \n",
    "pi = 3.141519\n",
    "print(f\"pi is rounded to 2 decimal places:{pi:.2f}\")"
   ]
  },
  {
   "cell_type": "code",
   "execution_count": 11,
   "id": "78e3e085-7a20-484a-850f-f31335b7a74b",
   "metadata": {},
   "outputs": [
    {
     "name": "stdout",
     "output_type": "stream",
     "text": [
      "python    \n",
      "    python\n",
      "  python  \n"
     ]
    }
   ],
   "source": [
    "# padding and alignment \n",
    "# left align\n",
    "print(f\"{'python':<10}\")\n",
    "# right align\n",
    "print(f\"{'python':>10}\")\n",
    "# center-align \n",
    "print(f\"{'python':^10}\")"
   ]
  },
  {
   "cell_type": "code",
   "execution_count": null,
   "id": "537c3689-faf9-4398-8a34-885a7fdb51c9",
   "metadata": {},
   "outputs": [],
   "source": []
  }
 ],
 "metadata": {
  "kernelspec": {
   "display_name": "Python 3 (ipykernel)",
   "language": "python",
   "name": "python3"
  },
  "language_info": {
   "codemirror_mode": {
    "name": "ipython",
    "version": 3
   },
   "file_extension": ".py",
   "mimetype": "text/x-python",
   "name": "python",
   "nbconvert_exporter": "python",
   "pygments_lexer": "ipython3",
   "version": "3.12.7"
  }
 },
 "nbformat": 4,
 "nbformat_minor": 5
}
