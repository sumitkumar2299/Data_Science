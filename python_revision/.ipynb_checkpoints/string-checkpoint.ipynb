{
 "cells": [
  {
   "cell_type": "code",
   "execution_count": 1,
   "id": "7be1d760-b662-49e8-8b61-5f96a062c5d1",
   "metadata": {},
   "outputs": [],
   "source": [
    "name = \"sumit\"\n",
    "greeting = \"hello\""
   ]
  },
  {
   "cell_type": "code",
   "execution_count": 3,
   "id": "fa2f7507-4fb4-4b9b-8bf3-fd809cd6b313",
   "metadata": {},
   "outputs": [
    {
     "name": "stdout",
     "output_type": "stream",
     "text": [
      "sumit\n",
      "hello\n"
     ]
    }
   ],
   "source": [
    "print(name)\n",
    "print(greeting)"
   ]
  },
  {
   "cell_type": "code",
   "execution_count": 4,
   "id": "9a20253d-8bb3-4996-8785-4a9b47ace10a",
   "metadata": {},
   "outputs": [],
   "source": [
    "message = \"\"\"this is \n",
    "a multiline \n",
    "string\"\"\""
   ]
  },
  {
   "cell_type": "code",
   "execution_count": 5,
   "id": "e967dceb-c088-4e82-9322-4531d0f7b242",
   "metadata": {},
   "outputs": [
    {
     "name": "stdout",
     "output_type": "stream",
     "text": [
      "this is \n",
      "a multiline \n",
      "string\n"
     ]
    }
   ],
   "source": [
    "print(message)"
   ]
  },
  {
   "cell_type": "markdown",
   "id": "f7eb665a-b454-4d25-be1e-4418320fc8a2",
   "metadata": {},
   "source": [
    "## string indexing and slicing "
   ]
  },
  {
   "cell_type": "code",
   "execution_count": 13,
   "id": "57d75bbc-d680-4786-ac9b-028a61de5892",
   "metadata": {},
   "outputs": [
    {
     "name": "stdout",
     "output_type": "stream",
     "text": [
      "p\n",
      "n\n",
      "y\n",
      "py\n",
      "pyt\n",
      "hon\n"
     ]
    }
   ],
   "source": [
    "# indexing starts at 0 \n",
    "text = \"python\"\n",
    "print(text[0])\n",
    "# -1 gives element from the last \n",
    "print(text[-1])\n",
    "# here we are printing element having index 1\n",
    "print(text[1])\n",
    "# print 0 to 1 \n",
    "print(text[0:2])\n",
    "# printing till 0 to 3\n",
    "print(text[:3])\n",
    "# printing from 4\n",
    "print(text[3:])"
   ]
  },
  {
   "cell_type": "markdown",
   "id": "ab7f2c20-4ee4-4d86-b847-feba64febe93",
   "metadata": {},
   "source": [
    "## string immutability "
   ]
  },
  {
   "cell_type": "code",
   "execution_count": 14,
   "id": "67e45d3d-494b-4325-a627-13feb0fc94db",
   "metadata": {},
   "outputs": [
    {
     "ename": "TypeError",
     "evalue": "'str' object does not support item assignment",
     "output_type": "error",
     "traceback": [
      "\u001b[1;31m---------------------------------------------------------------------------\u001b[0m",
      "\u001b[1;31mTypeError\u001b[0m                                 Traceback (most recent call last)",
      "Cell \u001b[1;32mIn[14], line 1\u001b[0m\n\u001b[1;32m----> 1\u001b[0m text[\u001b[38;5;241m0\u001b[39m] \u001b[38;5;241m=\u001b[39m \u001b[38;5;124m\"\u001b[39m\u001b[38;5;124ms\u001b[39m\u001b[38;5;124m\"\u001b[39m\n\u001b[0;32m      2\u001b[0m \u001b[38;5;28mprint\u001b[39m(text)\n",
      "\u001b[1;31mTypeError\u001b[0m: 'str' object does not support item assignment"
     ]
    }
   ],
   "source": [
    "text[0] = \"s\"\n",
    "print(text)"
   ]
  },
  {
   "cell_type": "markdown",
   "id": "ba1eafd5-4dba-475c-8128-0f2b3364f3ca",
   "metadata": {},
   "source": [
    "## string methods "
   ]
  },
  {
   "cell_type": "code",
   "execution_count": 16,
   "id": "55e405ea-4d97-4152-ab84-84af39d077b1",
   "metadata": {},
   "outputs": [
    {
     "name": "stdout",
     "output_type": "stream",
     "text": [
      "HELLO\n",
      "hello\n",
      "['hello', 'world']\n",
      "2025-4-14\n",
      "2\n"
     ]
    }
   ],
   "source": [
    "print(\"hello\".upper())\n",
    "print(\"hello \".strip())\n",
    "print(\"hello world\".split())\n",
    "print(\"-\".join([\"2025\",\"4\",\"14\"]))\n",
    "print(\"python\".find(\"th\"))"
   ]
  },
  {
   "cell_type": "markdown",
   "id": "cc11cd35-68b4-40f7-be19-fe2e7dfd032e",
   "metadata": {},
   "source": [
    "## string formating "
   ]
  },
  {
   "cell_type": "code",
   "execution_count": 17,
   "id": "2d02bd70-8114-4d37-b693-7191f44f39db",
   "metadata": {},
   "outputs": [
    {
     "data": {
      "text/plain": [
       "'Hello, sumit. you are 12 years old'"
      ]
     },
     "execution_count": 17,
     "metadata": {},
     "output_type": "execute_result"
    }
   ],
   "source": [
    "name = \"sumit\"\n",
    "age = 12\n",
    "f\"Hello, {name}. you are {age} years old\""
   ]
  },
  {
   "cell_type": "code",
   "execution_count": null,
   "id": "75b0b06c-5ab4-4e3d-b88d-602443a78a6a",
   "metadata": {},
   "outputs": [],
   "source": []
  }
 ],
 "metadata": {
  "kernelspec": {
   "display_name": "Python 3 (ipykernel)",
   "language": "python",
   "name": "python3"
  },
  "language_info": {
   "codemirror_mode": {
    "name": "ipython",
    "version": 3
   },
   "file_extension": ".py",
   "mimetype": "text/x-python",
   "name": "python",
   "nbconvert_exporter": "python",
   "pygments_lexer": "ipython3",
   "version": "3.12.7"
  }
 },
 "nbformat": 4,
 "nbformat_minor": 5
}
