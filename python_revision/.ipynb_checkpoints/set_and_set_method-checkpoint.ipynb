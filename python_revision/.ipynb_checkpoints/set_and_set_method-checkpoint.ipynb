{
 "cells": [
  {
   "cell_type": "code",
   "execution_count": 2,
   "id": "8ff4e3a5-720b-46aa-949b-06c18d7df95f",
   "metadata": {},
   "outputs": [
    {
     "name": "stdout",
     "output_type": "stream",
     "text": [
      "{1, 2, 3, 4, 5}\n",
      "{3.14, 1, 'hello'}\n",
      "{3.14, 1, 'hello'}\n",
      "{1, 2, 3, 4, 5}\n"
     ]
    }
   ],
   "source": [
    "empty_set = set()\n",
    "# set with elements \n",
    "numbers = {1,2,3,4,5}\n",
    "mixed_set = {1,\"hello\",3.14,True}\n",
    "print(numbers)\n",
    "print(mixed_set)\n",
    "# mixed data types \n",
    "mixed_set = {1,\"hello\",3.14,True}\n",
    "print(mixed_set)\n",
    "\n",
    "# creating a set from a list \n",
    "\n",
    "unique_numbers = set([1,2,2,3,4,4,5])\n",
    "print(unique_numbers)\n"
   ]
  },
  {
   "cell_type": "code",
   "execution_count": 6,
   "id": "578f4173-2522-4bfb-a3bd-04fab410a628",
   "metadata": {},
   "outputs": [
    {
     "name": "stdout",
     "output_type": "stream",
     "text": [
      "{10}\n",
      "None\n",
      "None\n"
     ]
    }
   ],
   "source": [
    "# common set methods \n",
    "set_empty  = set()\n",
    "set_empty.add(10)\n",
    "print(set_empty)\n",
    "\n",
    "\n",
    "# updation \n",
    "update = set_empty.update([6,7,8])\n",
    "print(update)\n",
    "\n",
    "\n",
    "# remove \n",
    "print(set_empty.remove(10))\n"
   ]
  },
  {
   "cell_type": "code",
   "execution_count": 15,
   "id": "0f49c487-e426-4cd6-a0a0-80921fa8d807",
   "metadata": {},
   "outputs": [
    {
     "name": "stdout",
     "output_type": "stream",
     "text": [
      "{1, 2, 3, 4, 5}\n",
      "{5, 6, 7, 8, 9, 10}\n",
      "{1, 2, 3, 4, 5, 6, 7, 8, 9, 10}\n",
      "{5}\n"
     ]
    }
   ],
   "source": [
    "# set operations \n",
    "\n",
    "set1 = {1,2,3,4,5}\n",
    "print(set1)\n",
    "set2 = {6,7,8,9,5,10}\n",
    "print(set2)\n",
    "\n",
    "union = set1.union(set2)\n",
    "print(union)\n",
    "\n",
    "intersection  = set1.intersection(set2)\n",
    "print(intersection)\n",
    "\n",
    "\n",
    "\n"
   ]
  },
  {
   "cell_type": "code",
   "execution_count": 21,
   "id": "c2492cd7-abb5-4152-9420-bebaf97913b0",
   "metadata": {},
   "outputs": [
    {
     "name": "stdout",
     "output_type": "stream",
     "text": [
      "{1, 2, 3, 4, 5, 6}\n",
      "{1, 2, 3, 4, 5, 6}\n",
      "{3, 4}\n",
      "{3, 4}\n",
      "{1, 2}\n",
      "{1, 2}\n",
      "{1, 2, 5, 6}\n",
      "{1, 2, 5, 6}\n"
     ]
    }
   ],
   "source": [
    "# example usage \n",
    "\n",
    "set1 = {1,2,3,4}\n",
    "set2 = {3,4,5,6}\n",
    "print(set1 | set2)\n",
    "print(set1.union(set2))\n",
    "\n",
    "\n",
    "# intersection\n",
    "print(set1&set2)\n",
    "print(set1.intersection(set2))\n",
    "\n",
    "# difffernce -> in set1 but not in set 2\n",
    "print(set1-set2)\n",
    "print(set1.difference(set2))\n",
    "\n",
    "# symmetric difference \n",
    "print(set1^set2)\n",
    "print(set1.symmetric_difference(set2))"
   ]
  },
  {
   "cell_type": "code",
   "execution_count": null,
   "id": "00772c65-fbd7-4ef0-a079-b38aabd45fb6",
   "metadata": {},
   "outputs": [],
   "source": [
    "# no indexing or slicing \n",
    "# duplicates are automatically removed \n",
    "# you can add or remove elements "
   ]
  }
 ],
 "metadata": {
  "kernelspec": {
   "display_name": "Python 3 (ipykernel)",
   "language": "python",
   "name": "python3"
  },
  "language_info": {
   "codemirror_mode": {
    "name": "ipython",
    "version": 3
   },
   "file_extension": ".py",
   "mimetype": "text/x-python",
   "name": "python",
   "nbconvert_exporter": "python",
   "pygments_lexer": "ipython3",
   "version": "3.12.7"
  }
 },
 "nbformat": 4,
 "nbformat_minor": 5
}
