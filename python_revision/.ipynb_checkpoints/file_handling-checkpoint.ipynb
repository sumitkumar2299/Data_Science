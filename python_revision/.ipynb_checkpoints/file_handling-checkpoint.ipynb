{
 "cells": [
  {
   "cell_type": "code",
   "execution_count": 3,
   "id": "bf1abe35-7276-4fb9-99c5-39717a67368d",
   "metadata": {},
   "outputs": [
    {
     "name": "stdout",
     "output_type": "stream",
     "text": [
      "{\n",
      " \"cells\": [\n",
      "  {\n",
      "   \"cell_type\": \"code\",\n",
      "   \"execution_count\": null,\n",
      "   \"id\": \"b44dceb6-d153-41c8-b7d5-933099a8fc28\",\n",
      "   \"metadata\": {},\n",
      "   \"outputs\": [],\n",
      "   \"source\": [\n",
      "    \"hey i am sumit kumar learning file handling in python \\n\"\n",
      "   ]\n",
      "  }\n",
      " ],\n",
      " \"metadata\": {\n",
      "  \"kernelspec\": {\n",
      "   \"display_name\": \"Python 3 (ipykernel)\",\n",
      "   \"language\": \"python\",\n",
      "   \"name\": \"python3\"\n",
      "  },\n",
      "  \"language_info\": {\n",
      "   \"codemirror_mode\": {\n",
      "    \"name\": \"ipython\",\n",
      "    \"version\": 3\n",
      "   },\n",
      "   \"file_extension\": \".py\",\n",
      "   \"mimetype\": \"text/x-python\",\n",
      "   \"name\": \"python\",\n",
      "   \"nbconvert_exporter\": \"python\",\n",
      "   \"pygments_lexer\": \"ipython3\",\n",
      "   \"version\": \"3.12.7\"\n",
      "  }\n",
      " },\n",
      " \"nbformat\": 4,\n",
      " \"nbformat_minor\": 5\n",
      "}\n",
      "\n"
     ]
    }
   ],
   "source": [
    "# opeening a file \n",
    "\n",
    "# python uses the open() function to open a file \n",
    "\n",
    "# file = open('filename',mode)\n",
    "\n",
    "\n",
    "# i have created a file example.txt and i had written some text \n",
    "\n",
    "file = open(\"example.txt\",\"r\")\n",
    "content = file.read()\n",
    "print(content)\n",
    "file.close()\n",
    "# yeh file ka sara data deta hai \n",
    "# aur yeh sirf jupyter lab ya notebook mein hota hai "
   ]
  },
  {
   "cell_type": "code",
   "execution_count": 6,
   "id": "9d039bc7-d009-4ed0-9a06-b53355706709",
   "metadata": {},
   "outputs": [
    {
     "name": "stdout",
     "output_type": "stream",
     "text": [
      "{\n",
      "\n"
     ]
    }
   ],
   "source": [
    "# using readline() = read line by line \n",
    "\n",
    "file = open(\"example.txt\",\"r\")\n",
    "line1 = file.readline()\n",
    "print(line1)\n",
    "file.close()\n",
    "\n"
   ]
  },
  {
   "cell_type": "code",
   "execution_count": 10,
   "id": "95567702-e2bd-433f-a853-dad87aaee34f",
   "metadata": {},
   "outputs": [
    {
     "name": "stdout",
     "output_type": "stream",
     "text": [
      "['{\\n', ' \"cells\": [\\n', '  {\\n', '   \"cell_type\": \"code\",\\n', '   \"execution_count\": null,\\n', '   \"id\": \"b44dceb6-d153-41c8-b7d5-933099a8fc28\",\\n', '   \"metadata\": {},\\n', '   \"outputs\": [],\\n', '   \"source\": [\\n', '    \"hey i am sumit kumar learning file handling in python \\\\n\"\\n', '   ]\\n', '  }\\n', ' ],\\n', ' \"metadata\": {\\n', '  \"kernelspec\": {\\n', '   \"display_name\": \"Python 3 (ipykernel)\",\\n', '   \"language\": \"python\",\\n', '   \"name\": \"python3\"\\n', '  },\\n', '  \"language_info\": {\\n', '   \"codemirror_mode\": {\\n', '    \"name\": \"ipython\",\\n', '    \"version\": 3\\n', '   },\\n', '   \"file_extension\": \".py\",\\n', '   \"mimetype\": \"text/x-python\",\\n', '   \"name\": \"python\",\\n', '   \"nbconvert_exporter\": \"python\",\\n', '   \"pygments_lexer\": \"ipython3\",\\n', '   \"version\": \"3.12.7\"\\n', '  }\\n', ' },\\n', ' \"nbformat\": 4,\\n', ' \"nbformat_minor\": 5\\n', '}\\n']\n"
     ]
    }
   ],
   "source": [
    "# using readlines() - read all lines as list \n",
    "\n",
    "file = open(\"example.txt\",\"r\")\n",
    "lines = file.readlines()\n",
    "# read all lines as list \n",
    "print(lines)\n",
    "file.close()\n",
    "\n"
   ]
  },
  {
   "cell_type": "code",
   "execution_count": 12,
   "id": "d9d6756d-8293-4043-8747-9dee1d9429b5",
   "metadata": {},
   "outputs": [],
   "source": [
    "# writing to a file \n",
    "# yeh purane content ko hata ke apna content likhega. \n",
    "file = open(\"example.txt\",\"w\")\n",
    "file.write(\"hello world\")\n",
    "file.close()\n",
    "\n",
    "\n",
    "\n",
    "\n"
   ]
  },
  {
   "cell_type": "code",
   "execution_count": 14,
   "id": "6340da8b-6c2c-49b5-ad0c-5fe746b203f3",
   "metadata": {},
   "outputs": [],
   "source": [
    "# using writelines() - write mulitple lines \n",
    "# yeh bhi purane content ko hata ke apna content likhega \n",
    "\n",
    "lines = [\"hello\\n\",\"welcome to python\\n\",\"file handling\\n\"]\n",
    "file = open(\"example.txt\",\"w\")\n",
    "# writes multiple lines \n",
    "file.writelines(lines) \n",
    "file.close()"
   ]
  },
  {
   "cell_type": "code",
   "execution_count": 15,
   "id": "079df5bd-cb23-4662-8e11-388eaa2774d4",
   "metadata": {},
   "outputs": [
    {
     "ename": "SyntaxError",
     "evalue": "incomplete input (793609324.py, line 2)",
     "output_type": "error",
     "traceback": [
      "\u001b[1;36m  Cell \u001b[1;32mIn[15], line 2\u001b[1;36m\u001b[0m\n\u001b[1;33m    file = open(\"example.txt\",\u001b[0m\n\u001b[1;37m                              ^\u001b[0m\n\u001b[1;31mSyntaxError\u001b[0m\u001b[1;31m:\u001b[0m incomplete input\n"
     ]
    }
   ],
   "source": [
    "# appending to a file -> yeh erase nahi karega file ko \n",
    "file = open(\"example.txt\",\"a\")\n",
    "file.write\n"
   ]
  },
  {
   "cell_type": "code",
   "execution_count": 21,
   "id": "10d0b827-27a4-4ce8-8f5d-9d6bd78bbfe0",
   "metadata": {},
   "outputs": [
    {
     "name": "stdout",
     "output_type": "stream",
     "text": [
      "hello\n",
      "welcome to python\n",
      "file handling\n",
      "\n",
      " This is an additional line\n",
      " This is an additional line\n",
      " This is an additional line\n",
      " This is an additional line3\n"
     ]
    }
   ],
   "source": [
    "# using with statement (best practice)\n",
    "\n",
    "with open(\"example.txt\",\"r\") as file:\n",
    "    content = file.read()\n",
    "    print(content)"
   ]
  },
  {
   "cell_type": "code",
   "execution_count": 22,
   "id": "2884ebd0-241f-4ec1-a40f-a2c502b107fe",
   "metadata": {},
   "outputs": [
    {
     "name": "stdout",
     "output_type": "stream",
     "text": [
      "file exists\n"
     ]
    }
   ],
   "source": [
    "# checking if a file exists or not \n",
    "\n",
    "import os \n",
    "if os.path.exists(\"example.txt\"):\n",
    "    print(\"file exists\")\n",
    "else: \n",
    "    print(\"file not found\")"
   ]
  },
  {
   "cell_type": "code",
   "execution_count": 1,
   "id": "c61df45d-2568-4e51-be20-288a3a12beac",
   "metadata": {},
   "outputs": [
    {
     "name": "stdout",
     "output_type": "stream",
     "text": [
      "b'{\\n \"cells\": [\\n  {\\n   \"cell_type\": \"code\",\\n   \"execution_count\": null,\\n   \"id\": \"9ccf9d7e-5797-4252-96da-a710208f3101\",\\n   \"metadata\": {},\\n   \"outputs\": [],\\n   \"source\": []\\n  }\\n ],\\n \"metadata\": {\\n  \"kernelspec\": {\\n   \"display_name\": \"Python 3 (ipykernel)\",\\n   \"language\": \"python\",\\n   \"name\": \"python3\"\\n  },\\n  \"language_info\": {\\n   \"codemirror_mode\": {\\n    \"name\": \"ipython\",\\n    \"version\": 3\\n   },\\n   \"file_extension\": \".py\",\\n   \"mimetype\": \"text/x-python\",\\n   \"name\": \"python\",\\n   \"nbconvert_exporter\": \"python\",\\n   \"pygments_lexer\": \"ipython3\",\\n   \"version\": \"3.12.7\"\\n  }\\n },\\n \"nbformat\": 4,\\n \"nbformat_minor\": 5\\n}\\n'\n"
     ]
    }
   ],
   "source": [
    "# working with binary file \n",
    "\n",
    "with open(\"image.jpg\",\"rb\") as file:\n",
    "    data = file.read()\n",
    "    print(data)\n",
    "    # it show error because image.jpg is not found in the directory. "
   ]
  },
  {
   "cell_type": "code",
   "execution_count": 2,
   "id": "f88d0312-3a8a-4c8a-9262-4d2e83c50a58",
   "metadata": {},
   "outputs": [
    {
     "name": "stdout",
     "output_type": "stream",
     "text": [
      "file found\n"
     ]
    }
   ],
   "source": [
    "import os \n",
    "if os.path.exists(\"image.jpg\"):\n",
    "    print(\"file found\")\n"
   ]
  },
  {
   "cell_type": "code",
   "execution_count": 3,
   "id": "73af6663-60e7-4c6e-879a-4236c18dbad3",
   "metadata": {},
   "outputs": [],
   "source": [
    "# working with binary files \n",
    "\n",
    "with open (\"new_image.jpg\",\"wb\") as file:\n",
    "    file.write(data)\n",
    "    # writes binary content to a new line "
   ]
  },
  {
   "cell_type": "code",
   "execution_count": null,
   "id": "5c302acb-80aa-473c-9194-e75c9dfee9f8",
   "metadata": {},
   "outputs": [],
   "source": []
  }
 ],
 "metadata": {
  "kernelspec": {
   "display_name": "Python 3 (ipykernel)",
   "language": "python",
   "name": "python3"
  },
  "language_info": {
   "codemirror_mode": {
    "name": "ipython",
    "version": 3
   },
   "file_extension": ".py",
   "mimetype": "text/x-python",
   "name": "python",
   "nbconvert_exporter": "python",
   "pygments_lexer": "ipython3",
   "version": "3.12.7"
  }
 },
 "nbformat": 4,
 "nbformat_minor": 5
}
