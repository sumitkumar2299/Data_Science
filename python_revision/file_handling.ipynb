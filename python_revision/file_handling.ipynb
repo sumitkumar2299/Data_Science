{
 "cells": [
  {
   "cell_type": "code",
   "execution_count": 3,
   "id": "bf1abe35-7276-4fb9-99c5-39717a67368d",
   "metadata": {},
   "outputs": [
    {
     "name": "stdout",
     "output_type": "stream",
     "text": [
      "{\n",
      " \"cells\": [\n",
      "  {\n",
      "   \"cell_type\": \"code\",\n",
      "   \"execution_count\": null,\n",
      "   \"id\": \"b44dceb6-d153-41c8-b7d5-933099a8fc28\",\n",
      "   \"metadata\": {},\n",
      "   \"outputs\": [],\n",
      "   \"source\": [\n",
      "    \"hey i am sumit kumar learning file handling in python \\n\"\n",
      "   ]\n",
      "  }\n",
      " ],\n",
      " \"metadata\": {\n",
      "  \"kernelspec\": {\n",
      "   \"display_name\": \"Python 3 (ipykernel)\",\n",
      "   \"language\": \"python\",\n",
      "   \"name\": \"python3\"\n",
      "  },\n",
      "  \"language_info\": {\n",
      "   \"codemirror_mode\": {\n",
      "    \"name\": \"ipython\",\n",
      "    \"version\": 3\n",
      "   },\n",
      "   \"file_extension\": \".py\",\n",
      "   \"mimetype\": \"text/x-python\",\n",
      "   \"name\": \"python\",\n",
      "   \"nbconvert_exporter\": \"python\",\n",
      "   \"pygments_lexer\": \"ipython3\",\n",
      "   \"version\": \"3.12.7\"\n",
      "  }\n",
      " },\n",
      " \"nbformat\": 4,\n",
      " \"nbformat_minor\": 5\n",
      "}\n",
      "\n"
     ]
    }
   ],
   "source": [
    "# opeening a file \n",
    "\n",
    "# python uses the open() function to open a file \n",
    "\n",
    "# file = open('filename',mode)\n",
    "\n",
    "\n",
    "# i have created a file example.txt and i had written some text \n",
    "\n",
    "file = open(\"example.txt\",\"r\")\n",
    "content = file.read()\n",
    "print(content)\n",
    "file.close()\n",
    "# yeh file ka sara data deta hai \n",
    "# aur yeh sirf jupyter lab ya notebook mein hota hai "
   ]
  },
  {
   "cell_type": "code",
   "execution_count": 6,
   "id": "9d039bc7-d009-4ed0-9a06-b53355706709",
   "metadata": {},
   "outputs": [
    {
     "name": "stdout",
     "output_type": "stream",
     "text": [
      "{\n",
      "\n"
     ]
    }
   ],
   "source": [
    "# using readline() = read line by line \n",
    "\n",
    "file = open(\"example.txt\",\"r\")\n",
    "line1 = file.readline()\n",
    "print(line1)\n",
    "file.close()\n",
    "\n"
   ]
  },
  {
   "cell_type": "code",
   "execution_count": 10,
   "id": "95567702-e2bd-433f-a853-dad87aaee34f",
   "metadata": {},
   "outputs": [
    {
     "name": "stdout",
     "output_type": "stream",
     "text": [
      "['{\\n', ' \"cells\": [\\n', '  {\\n', '   \"cell_type\": \"code\",\\n', '   \"execution_count\": null,\\n', '   \"id\": \"b44dceb6-d153-41c8-b7d5-933099a8fc28\",\\n', '   \"metadata\": {},\\n', '   \"outputs\": [],\\n', '   \"source\": [\\n', '    \"hey i am sumit kumar learning file handling in python \\\\n\"\\n', '   ]\\n', '  }\\n', ' ],\\n', ' \"metadata\": {\\n', '  \"kernelspec\": {\\n', '   \"display_name\": \"Python 3 (ipykernel)\",\\n', '   \"language\": \"python\",\\n', '   \"name\": \"python3\"\\n', '  },\\n', '  \"language_info\": {\\n', '   \"codemirror_mode\": {\\n', '    \"name\": \"ipython\",\\n', '    \"version\": 3\\n', '   },\\n', '   \"file_extension\": \".py\",\\n', '   \"mimetype\": \"text/x-python\",\\n', '   \"name\": \"python\",\\n', '   \"nbconvert_exporter\": \"python\",\\n', '   \"pygments_lexer\": \"ipython3\",\\n', '   \"version\": \"3.12.7\"\\n', '  }\\n', ' },\\n', ' \"nbformat\": 4,\\n', ' \"nbformat_minor\": 5\\n', '}\\n']\n"
     ]
    }
   ],
   "source": [
    "# using readlines() - read all lines as list \n",
    "\n",
    "file = open(\"example.txt\",\"r\")\n",
    "lines = file.readlines()\n",
    "# read all lines as list \n",
    "print(lines)\n",
    "file.close()\n",
    "\n"
   ]
  },
  {
   "cell_type": "code",
   "execution_count": 12,
   "id": "d9d6756d-8293-4043-8747-9dee1d9429b5",
   "metadata": {},
   "outputs": [],
   "source": [
    "# writing to a file \n",
    "# yeh purane content ko hata ke apna content likhega. \n",
    "file = open(\"example.txt\",\"w\")\n",
    "file.write(\"hello world\")\n",
    "file.close()\n",
    "\n",
    "\n",
    "\n",
    "\n"
   ]
  },
  {
   "cell_type": "code",
   "execution_count": 14,
   "id": "6340da8b-6c2c-49b5-ad0c-5fe746b203f3",
   "metadata": {},
   "outputs": [],
   "source": [
    "# using writelines() - write mulitple lines \n",
    "# yeh bhi purane content ko hata ke apna content likhega \n",
    "\n",
    "lines = [\"hello\\n\",\"welcome to python\\n\",\"file handling\\n\"]\n",
    "file = open(\"example.txt\",\"w\")\n",
    "# writes multiple lines \n",
    "file.writelines(lines) \n",
    "file.close()"
   ]
  },
  {
   "cell_type": "code",
   "execution_count": 15,
   "id": "079df5bd-cb23-4662-8e11-388eaa2774d4",
   "metadata": {},
   "outputs": [
    {
     "ename": "SyntaxError",
     "evalue": "incomplete input (793609324.py, line 2)",
     "output_type": "error",
     "traceback": [
      "\u001b[1;36m  Cell \u001b[1;32mIn[15], line 2\u001b[1;36m\u001b[0m\n\u001b[1;33m    file = open(\"example.txt\",\u001b[0m\n\u001b[1;37m                              ^\u001b[0m\n\u001b[1;31mSyntaxError\u001b[0m\u001b[1;31m:\u001b[0m incomplete input\n"
     ]
    }
   ],
   "source": [
    "# appending to a file -> yeh erase nahi karega file ko \n",
    "file = open(\"example.txt\",\"a\")\n",
    "file.write\n"
   ]
  },
  {
   "cell_type": "code",
   "execution_count": 21,
   "id": "10d0b827-27a4-4ce8-8f5d-9d6bd78bbfe0",
   "metadata": {},
   "outputs": [
    {
     "name": "stdout",
     "output_type": "stream",
     "text": [
      "hello\n",
      "welcome to python\n",
      "file handling\n",
      "\n",
      " This is an additional line\n",
      " This is an additional line\n",
      " This is an additional line\n",
      " This is an additional line3\n"
     ]
    }
   ],
   "source": [
    "# using with statement (best practice)\n",
    "\n",
    "with open(\"example.txt\",\"r\") as file:\n",
    "    content = file.read()\n",
    "    print(content)"
   ]
  },
  {
   "cell_type": "code",
   "execution_count": 22,
   "id": "2884ebd0-241f-4ec1-a40f-a2c502b107fe",
   "metadata": {},
   "outputs": [
    {
     "name": "stdout",
     "output_type": "stream",
     "text": [
      "file exists\n"
     ]
    }
   ],
   "source": [
    "# checking if a file exists or not \n",
    "\n",
    "import os \n",
    "if os.path.exists(\"example.txt\"):\n",
    "    print(\"file exists\")\n",
    "else: \n",
    "    print(\"file not found\")"
   ]
  },
  {
   "cell_type": "code",
   "execution_count": 23,
   "id": "c61df45d-2568-4e51-be20-288a3a12beac",
   "metadata": {},
   "outputs": [
    {
     "ename": "FileNotFoundError",
     "evalue": "[Errno 2] No such file or directory: 'image.jpg'",
     "output_type": "error",
     "traceback": [
      "\u001b[1;31m---------------------------------------------------------------------------\u001b[0m",
      "\u001b[1;31mFileNotFoundError\u001b[0m                         Traceback (most recent call last)",
      "Cell \u001b[1;32mIn[23], line 3\u001b[0m\n\u001b[0;32m      1\u001b[0m \u001b[38;5;66;03m# working with binary file \u001b[39;00m\n\u001b[1;32m----> 3\u001b[0m \u001b[38;5;28;01mwith\u001b[39;00m \u001b[38;5;28mopen\u001b[39m(\u001b[38;5;124m\"\u001b[39m\u001b[38;5;124mimage.jpg\u001b[39m\u001b[38;5;124m\"\u001b[39m,\u001b[38;5;124m\"\u001b[39m\u001b[38;5;124mrb\u001b[39m\u001b[38;5;124m\"\u001b[39m) \u001b[38;5;28;01mas\u001b[39;00m file:\n\u001b[0;32m      4\u001b[0m     data \u001b[38;5;241m=\u001b[39m file\u001b[38;5;241m.\u001b[39mread()\n\u001b[0;32m      5\u001b[0m     \u001b[38;5;28mprint\u001b[39m(data)\n",
      "File \u001b[1;32m~\\anaconda3\\Lib\\site-packages\\IPython\\core\\interactiveshell.py:324\u001b[0m, in \u001b[0;36m_modified_open\u001b[1;34m(file, *args, **kwargs)\u001b[0m\n\u001b[0;32m    317\u001b[0m \u001b[38;5;28;01mif\u001b[39;00m file \u001b[38;5;129;01min\u001b[39;00m {\u001b[38;5;241m0\u001b[39m, \u001b[38;5;241m1\u001b[39m, \u001b[38;5;241m2\u001b[39m}:\n\u001b[0;32m    318\u001b[0m     \u001b[38;5;28;01mraise\u001b[39;00m \u001b[38;5;167;01mValueError\u001b[39;00m(\n\u001b[0;32m    319\u001b[0m         \u001b[38;5;124mf\u001b[39m\u001b[38;5;124m\"\u001b[39m\u001b[38;5;124mIPython won\u001b[39m\u001b[38;5;124m'\u001b[39m\u001b[38;5;124mt let you open fd=\u001b[39m\u001b[38;5;132;01m{\u001b[39;00mfile\u001b[38;5;132;01m}\u001b[39;00m\u001b[38;5;124m by default \u001b[39m\u001b[38;5;124m\"\u001b[39m\n\u001b[0;32m    320\u001b[0m         \u001b[38;5;124m\"\u001b[39m\u001b[38;5;124mas it is likely to crash IPython. If you know what you are doing, \u001b[39m\u001b[38;5;124m\"\u001b[39m\n\u001b[0;32m    321\u001b[0m         \u001b[38;5;124m\"\u001b[39m\u001b[38;5;124myou can use builtins\u001b[39m\u001b[38;5;124m'\u001b[39m\u001b[38;5;124m open.\u001b[39m\u001b[38;5;124m\"\u001b[39m\n\u001b[0;32m    322\u001b[0m     )\n\u001b[1;32m--> 324\u001b[0m \u001b[38;5;28;01mreturn\u001b[39;00m io_open(file, \u001b[38;5;241m*\u001b[39margs, \u001b[38;5;241m*\u001b[39m\u001b[38;5;241m*\u001b[39mkwargs)\n",
      "\u001b[1;31mFileNotFoundError\u001b[0m: [Errno 2] No such file or directory: 'image.jpg'"
     ]
    }
   ],
   "source": [
    "# working with binary file \n",
    "\n",
    "with open(\"image.jpg\",\"rb\") as file:\n",
    "    data = file.read()\n",
    "    print(data)"
   ]
  },
  {
   "cell_type": "code",
   "execution_count": 24,
   "id": "f88d0312-3a8a-4c8a-9262-4d2e83c50a58",
   "metadata": {},
   "outputs": [],
   "source": [
    "import os \n",
    "if os.path.exists(\"image.jpg\"):\n",
    "    print(\"file found\")\n"
   ]
  },
  {
   "cell_type": "code",
   "execution_count": null,
   "id": "73af6663-60e7-4c6e-879a-4236c18dbad3",
   "metadata": {},
   "outputs": [],
   "source": []
  }
 ],
 "metadata": {
  "kernelspec": {
   "display_name": "Python 3 (ipykernel)",
   "language": "python",
   "name": "python3"
  },
  "language_info": {
   "codemirror_mode": {
    "name": "ipython",
    "version": 3
   },
   "file_extension": ".py",
   "mimetype": "text/x-python",
   "name": "python",
   "nbconvert_exporter": "python",
   "pygments_lexer": "ipython3",
   "version": "3.12.7"
  }
 },
 "nbformat": 4,
 "nbformat_minor": 5
}
