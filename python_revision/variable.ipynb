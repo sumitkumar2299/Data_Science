{
 "cells": [
  {
   "cell_type": "code",
   "execution_count": 17,
   "id": "3322b072-11bb-407d-a19d-2fc94c0ee04e",
   "metadata": {},
   "outputs": [],
   "source": [
    "name  = \"alice\"\n",
    "age  = 25\n",
    "is_student = True\n"
   ]
  },
  {
   "cell_type": "code",
   "execution_count": 18,
   "id": "28c16cf2-45ca-4055-bb61-106c997d0dd3",
   "metadata": {},
   "outputs": [
    {
     "name": "stdout",
     "output_type": "stream",
     "text": [
      "alice\n",
      "25\n",
      "True\n"
     ]
    }
   ],
   "source": [
    "print(name)\n",
    "print(age)\n",
    "print(is_student)"
   ]
  },
  {
   "cell_type": "markdown",
   "id": "1efddf66-fa8f-4120-ab50-9ef8d07f2117",
   "metadata": {},
   "source": [
    "## data types"
   ]
  },
  {
   "cell_type": "code",
   "execution_count": 19,
   "id": "ebf58e9a-5f55-45c9-b884-089920f9fcdc",
   "metadata": {},
   "outputs": [],
   "source": [
    "x = 5\n",
    "y = 5.0\n",
    "str = \"hello\"\n",
    "bool = True\n",
    "list = [1,2,3]\n",
    "tuple = (1,2,3)\n",
    "dict = {\"a\":1}\n"
   ]
  },
  {
   "cell_type": "code",
   "execution_count": 20,
   "id": "c53768f0-3b47-41d6-a0dc-bb91e78ed7bb",
   "metadata": {},
   "outputs": [
    {
     "name": "stdout",
     "output_type": "stream",
     "text": [
      "5\n",
      "5.0\n",
      "hello\n",
      "True\n",
      "[1, 2, 3]\n",
      "(1, 2, 3)\n",
      "{'a': 1}\n"
     ]
    }
   ],
   "source": [
    "print(x)\n",
    "print(y);\n",
    "print(str)\n",
    "print(bool)\n",
    "print(list)\n",
    "print(tuple)\n",
    "print(dict)\n"
   ]
  },
  {
   "cell_type": "markdown",
   "id": "af3267fa-9ac0-41cd-8da6-8e308d7a8574",
   "metadata": {},
   "source": [
    "## typecasting"
   ]
  },
  {
   "cell_type": "code",
   "execution_count": 23,
   "id": "c426f030-313b-4656-a1c8-8f921742c354",
   "metadata": {},
   "outputs": [
    {
     "data": {
      "text/plain": [
       "int"
      ]
     },
     "execution_count": 23,
     "metadata": {},
     "output_type": "execute_result"
    }
   ],
   "source": [
    "type(x)"
   ]
  },
  {
   "cell_type": "code",
   "execution_count": 24,
   "id": "d526bb64-7171-4d9b-b533-3675f117a865",
   "metadata": {},
   "outputs": [
    {
     "data": {
      "text/plain": [
       "int"
      ]
     },
     "execution_count": 24,
     "metadata": {},
     "output_type": "execute_result"
    }
   ],
   "source": [
    "a = 456\n",
    "type(a)"
   ]
  },
  {
   "cell_type": "code",
   "execution_count": null,
   "id": "b164f887-7a13-491a-8506-b5ac4beb5af1",
   "metadata": {},
   "outputs": [],
   "source": []
  }
 ],
 "metadata": {
  "kernelspec": {
   "display_name": "Python 3 (ipykernel)",
   "language": "python",
   "name": "python3"
  },
  "language_info": {
   "codemirror_mode": {
    "name": "ipython",
    "version": 3
   },
   "file_extension": ".py",
   "mimetype": "text/x-python",
   "name": "python",
   "nbconvert_exporter": "python",
   "pygments_lexer": "ipython3",
   "version": "3.12.7"
  }
 },
 "nbformat": 4,
 "nbformat_minor": 5
}
