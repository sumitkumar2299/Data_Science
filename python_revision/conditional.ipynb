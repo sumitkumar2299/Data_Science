{
 "cells": [
  {
   "cell_type": "code",
   "execution_count": 1,
   "id": "b1d635e3-2227-40a7-abc8-d89cd6180052",
   "metadata": {},
   "outputs": [
    {
     "name": "stdout",
     "output_type": "stream",
     "text": [
      "x is greater than 5\n"
     ]
    }
   ],
   "source": [
    "# conditonal statements revision\n",
    "\n",
    "x = 10\n",
    "if x>5:\n",
    "    print(\"x is greater than 5\")\n",
    "\n",
    "\n"
   ]
  },
  {
   "cell_type": "code",
   "execution_count": 2,
   "id": "23f887c6-9c3a-49e8-b191-cf73cf009fc5",
   "metadata": {},
   "outputs": [
    {
     "name": "stdout",
     "output_type": "stream",
     "text": [
      "x is not greater than 5\n"
     ]
    }
   ],
   "source": [
    "x = 3\n",
    "if x>5:\n",
    "    print(\"x is greater than 5\")\n",
    "else:\n",
    "    print(\"x is not greater than 5\")\n"
   ]
  },
  {
   "cell_type": "code",
   "execution_count": 3,
   "id": "a3e5cb9b-8568-4bdc-b951-5d9a18313621",
   "metadata": {},
   "outputs": [
    {
     "name": "stdout",
     "output_type": "stream",
     "text": [
      "x is exactly 5\n"
     ]
    }
   ],
   "source": [
    "# if-elif-else statement \n",
    "\n",
    "x = 5\n",
    "if x>10:\n",
    "    print(\"x is greater than 10\")\n",
    "elif x>5:\n",
    "    print(\"x is greater than 5 but not more than 10\")\n",
    "elif x == 5:\n",
    "    print(\"x is exactly 5\")\n",
    "else :\n",
    "    print(\"x is less than 5\")\n"
   ]
  },
  {
   "cell_type": "code",
   "execution_count": 1,
   "id": "8c1ae189-f1e6-471b-8afe-4200bf23d544",
   "metadata": {},
   "outputs": [
    {
     "name": "stdout",
     "output_type": "stream",
     "text": [
      "you are not eligble for applying pan card\n"
     ]
    }
   ],
   "source": [
    "x = 18\n",
    "if x>18:\n",
    "    print(\"you are eligble to apply for pan card\")\n",
    "else:\n",
    "    print(\"you are not eligble for applying pan card\")\n",
    "    \n"
   ]
  },
  {
   "cell_type": "code",
   "execution_count": 9,
   "id": "72bf4930-8bc6-4666-b7b0-54e810013f94",
   "metadata": {},
   "outputs": [
    {
     "name": "stdout",
     "output_type": "stream",
     "text": [
      "category adult\n"
     ]
    }
   ],
   "source": [
    "# using if else in data science \n",
    "\n",
    "age = 25\n",
    "if age<18:\n",
    "    category = \"minor\"\n",
    "elif age < 65:\n",
    "    category = \"adult\"\n",
    "else:\n",
    "    category = \"senior citizen\"\n",
    "print(\"category\",category)\n"
   ]
  },
  {
   "cell_type": "code",
   "execution_count": 11,
   "id": "4b6df3da-0e59-42a7-95df-74bb7117c37f",
   "metadata": {},
   "outputs": [
    {
     "name": "stdout",
     "output_type": "stream",
     "text": [
      "ok\n"
     ]
    }
   ],
   "source": [
    "# match case statements \n",
    "\n",
    "def http_status(code):\n",
    "    match code:\n",
    "      case 200:\n",
    "          return \"ok\"\n",
    "      case 400:\n",
    "          return \"bad request\"\n",
    "      case 404:\n",
    "          return \"not found\"\n",
    "      case 500:\n",
    "          return \"internal server error\"\n",
    "      case _:\n",
    "          return \"unknown status\"\n",
    "print(http_status(200))\n",
    "    \n",
    "    "
   ]
  },
  {
   "cell_type": "code",
   "execution_count": null,
   "id": "524a71cc-25ff-49e1-83e1-0fc00655296b",
   "metadata": {},
   "outputs": [],
   "source": []
  },
  {
   "cell_type": "code",
   "execution_count": null,
   "id": "5bdda720-3a9b-4fe7-9c9d-f92e667882c7",
   "metadata": {},
   "outputs": [],
   "source": []
  }
 ],
 "metadata": {
  "kernelspec": {
   "display_name": "Python 3 (ipykernel)",
   "language": "python",
   "name": "python3"
  },
  "language_info": {
   "codemirror_mode": {
    "name": "ipython",
    "version": 3
   },
   "file_extension": ".py",
   "mimetype": "text/x-python",
   "name": "python",
   "nbconvert_exporter": "python",
   "pygments_lexer": "ipython3",
   "version": "3.12.7"
  }
 },
 "nbformat": 4,
 "nbformat_minor": 5
}
