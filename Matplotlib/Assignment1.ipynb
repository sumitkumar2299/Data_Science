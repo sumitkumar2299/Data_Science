{
 "cells": [
  {
   "cell_type": "code",
   "execution_count": null,
   "id": "ca899cde-c7f4-410f-9a79-abc36c376674",
   "metadata": {},
   "outputs": [],
   "source": [
    "# some tips for beginners \n",
    "\n",
    "# always starts with a simple plots\n",
    "# add label and legends early \n",
    "# use plt.grid() and plt.tight_layout() to improve readability \n",
    "# try different styles to find what works for your case "
   ]
  }
 ],
 "metadata": {
  "kernelspec": {
   "display_name": "Python 3 (ipykernel)",
   "language": "python",
   "name": "python3"
  },
  "language_info": {
   "codemirror_mode": {
    "name": "ipython",
    "version": 3
   },
   "file_extension": ".py",
   "mimetype": "text/x-python",
   "name": "python",
   "nbconvert_exporter": "python",
   "pygments_lexer": "ipython3",
   "version": "3.12.7"
  }
 },
 "nbformat": 4,
 "nbformat_minor": 5
}
