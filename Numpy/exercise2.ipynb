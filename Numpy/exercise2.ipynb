{
 "cells": [
  {
   "cell_type": "code",
   "execution_count": 1,
   "id": "cbc8155b-5087-45b5-8ec0-c57215d0e589",
   "metadata": {},
   "outputs": [
    {
     "name": "stdout",
     "output_type": "stream",
     "text": [
      "(3, 3)\n"
     ]
    }
   ],
   "source": [
    "# create a 3*3 matrix array filled with random \n",
    "# number and print its shape \n",
    "\n",
    "\n",
    "import numpy as np \n",
    "\n",
    "arr  = np.array([[1,2,3],[4,5,6],[7,8,9]])\n",
    "print(arr.shape)\n",
    "\n"
   ]
  },
  {
   "cell_type": "code",
   "execution_count": 2,
   "id": "80d172d2-d2eb-4df6-b2ff-5ea94b8b7a51",
   "metadata": {},
   "outputs": [
    {
     "name": "stdout",
     "output_type": "stream",
     "text": [
      "[1 2 3]\n"
     ]
    }
   ],
   "source": [
    "# Convert an array of floats [1.1, 2.2, 3.3] into integers.\n",
    "\n",
    "import numpy as np \n",
    "\n",
    "array = np.array( [1.1, 2.2, 3.3])\n",
    "\n",
    "arr_int = array.astype(np.int32)\n",
    "print(arr_int)\n"
   ]
  },
  {
   "cell_type": "code",
   "execution_count": 4,
   "id": "50eb4a21-6af3-4ae8-b918-2b966fc73641",
   "metadata": {},
   "outputs": [
    {
     "name": "stdout",
     "output_type": "stream",
     "text": [
      "[2 4 6]\n"
     ]
    }
   ],
   "source": [
    "# Use fancy indexing to extract even numbers from [1, 2, 3, 4, 5, 6] .\n",
    "\n",
    "\n",
    "import numpy as np \n",
    "array = np.array([1,2,3,4,5,6])\n",
    "index = [1,3,5]\n",
    "print(array[index])"
   ]
  },
  {
   "cell_type": "code",
   "execution_count": 5,
   "id": "d3a79737-e6f1-47fe-bb4d-72dc9737998e",
   "metadata": {},
   "outputs": [
    {
     "name": "stdout",
     "output_type": "stream",
     "text": [
      "[[1 2 3]\n",
      " [4 5 6]\n",
      " [7 8 9]]\n"
     ]
    }
   ],
   "source": [
    "# reshaping of an 1d array into 3d \n",
    "\n",
    "\n",
    "import numpy as np \n",
    "array = np.array([1,2,3,4,5,6,7,8,9])\n",
    "# reshaping\n",
    "reshaping = arr.reshape(3,3)\n",
    "print(reshaping)"
   ]
  },
  {
   "cell_type": "code",
   "execution_count": null,
   "id": "6e0b403e-9fde-45ef-b156-a3562fc2fd08",
   "metadata": {},
   "outputs": [],
   "source": []
  }
 ],
 "metadata": {
  "kernelspec": {
   "display_name": "Python 3 (ipykernel)",
   "language": "python",
   "name": "python3"
  },
  "language_info": {
   "codemirror_mode": {
    "name": "ipython",
    "version": 3
   },
   "file_extension": ".py",
   "mimetype": "text/x-python",
   "name": "python",
   "nbconvert_exporter": "python",
   "pygments_lexer": "ipython3",
   "version": "3.12.7"
  }
 },
 "nbformat": 4,
 "nbformat_minor": 5
}
