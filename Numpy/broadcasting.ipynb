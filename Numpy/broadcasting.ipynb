{
 "cells": [
  {
   "cell_type": "code",
   "execution_count": 1,
   "id": "d221ecfe-4f77-4f46-8f5a-5d5518790c15",
   "metadata": {},
   "outputs": [
    {
     "name": "stdout",
     "output_type": "stream",
     "text": [
      "[1, 4, 9, 16, 25]\n"
     ]
    }
   ],
   "source": [
    "# broadcasting in numpy \n",
    "# Chhoti size ka array → bada banake → operation perform hota hai.\n",
    "\n",
    "\n",
    "# why loops are slow \n",
    "import numpy as np \n",
    "\n",
    "arr = np.array([1,2,3,4,5])\n",
    "result = []\n",
    "\n",
    "# using a loop to square each element(slow)\n",
    "for num in arr:\n",
    "    result.append(num**2)\n",
    "\n",
    "print(result)\n",
    "\n",
    "\n"
   ]
  },
  {
   "cell_type": "code",
   "execution_count": 3,
   "id": "223f2483-edfc-43a3-89e0-a7715126e41f",
   "metadata": {},
   "outputs": [
    {
     "name": "stdout",
     "output_type": "stream",
     "text": [
      "[ 1  4  9 16 25]\n"
     ]
    }
   ],
   "source": [
    "# vectorization -> fixing the loop problem \n",
    "\n",
    "# vectorization allows you to perform operation on entire arrays at once, \n",
    "# instead of iterating over elements one by one\n",
    "\n",
    "\n",
    "arr = np.array([1,2,3,4,5])\n",
    "# vectorized operation\n",
    "result = arr ** 2\n",
    "print(result)  \n"
   ]
  },
  {
   "cell_type": "code",
   "execution_count": 11,
   "id": "d4034c8b-db72-445d-b7a5-2652a9e988c3",
   "metadata": {},
   "outputs": [
    {
     "name": "stdout",
     "output_type": "stream",
     "text": [
      "[11 12 13 14 15]\n",
      "[11 22 33]\n",
      "[[2 4 6]\n",
      " [5 7 9]]\n"
     ]
    }
   ],
   "source": [
    "# broadcasting \n",
    "import numpy as np\n",
    "array = np.array([1,2,3,4,5])\n",
    "result = array+10\n",
    "print(result)\n",
    "\n",
    "\n",
    "# broadcasting with array of different shapes \n",
    "\n",
    "arr1 = np.array([1,2,3])\n",
    "arr2 = np.array([10,20,30])\n",
    "\n",
    "# element wise addition \n",
    "result = arr1+arr2\n",
    "print(result)\n",
    "\n",
    "\n",
    "# broadcasting a 2d array and a 1d array\n",
    "arr3 = np.array([[1,2,3],[4,5,6]])\n",
    "arr4 = np.array([1,2,3])\n",
    "result1 = arr3+arr4\n",
    "print(result1)"
   ]
  },
  {
   "cell_type": "code",
   "execution_count": 12,
   "id": "90ad7316-d8f1-4b9a-9def-d773c1db8632",
   "metadata": {},
   "outputs": [
    {
     "name": "stdout",
     "output_type": "stream",
     "text": [
      "[[-1.41421356 -1.41421356 -1.41421356]\n",
      " [-0.70710678 -0.70710678 -0.70710678]\n",
      " [ 0.          0.          0.        ]\n",
      " [ 0.70710678  0.70710678  0.70710678]\n",
      " [ 1.41421356  1.41421356  1.41421356]]\n"
     ]
    }
   ],
   "source": [
    "# applying broadcasting to real world scenarios \n",
    "\n",
    "# row -> sample\n",
    "# column -> features \n",
    "data = np.array([[10, 20, 30],\n",
    "                [15, 25, 35],\n",
    "                [20, 30, 40],\n",
    "                [25, 35, 45],\n",
    "                [30, 40, 50]])\n",
    "\n",
    "# calculating mean and standard deviation\n",
    "\n",
    "mean = data.mean(axis=0)\n",
    "std = data.std(axis=0)\n",
    "\n",
    "# normalizing the data using broadcasting \n",
    "\n",
    "normalized_data = (data-mean)/std\n",
    "print(normalized_data)\n"
   ]
  },
  {
   "cell_type": "code",
   "execution_count": null,
   "id": "eb6851fb-2fd5-4e94-9136-5d9dbe74df68",
   "metadata": {},
   "outputs": [],
   "source": []
  }
 ],
 "metadata": {
  "kernelspec": {
   "display_name": "Python 3 (ipykernel)",
   "language": "python",
   "name": "python3"
  },
  "language_info": {
   "codemirror_mode": {
    "name": "ipython",
    "version": 3
   },
   "file_extension": ".py",
   "mimetype": "text/x-python",
   "name": "python",
   "nbconvert_exporter": "python",
   "pygments_lexer": "ipython3",
   "version": "3.12.7"
  }
 },
 "nbformat": 4,
 "nbformat_minor": 5
}
