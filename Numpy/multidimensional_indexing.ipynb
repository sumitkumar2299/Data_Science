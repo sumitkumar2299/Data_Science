{
 "cells": [
  {
   "cell_type": "code",
   "execution_count": 2,
   "id": "84a1f92e-b095-4c2c-a442-187f5a18fd77",
   "metadata": {},
   "outputs": [
    {
     "name": "stdout",
     "output_type": "stream",
     "text": [
      "[[1 2 3]\n",
      " [4 5 6]\n",
      " [7 8 9]]\n"
     ]
    }
   ],
   "source": [
    "# 1d array - 1 axis \n",
    "\n",
    "# axes in 2d array \n",
    "\n",
    "import numpy as np \n",
    "arr = np.array([\n",
    "    [1,2,3],\n",
    "    [4,5,6],\n",
    "    [7,8,9]\n",
    "])\n",
    "print(arr)"
   ]
  },
  {
   "cell_type": "code",
   "execution_count": 3,
   "id": "18d0a999-501e-4a0b-ab5c-298852b9c410",
   "metadata": {},
   "outputs": [
    {
     "name": "stdout",
     "output_type": "stream",
     "text": [
      "[12 15 18]\n",
      "[ 6 15 24]\n"
     ]
    }
   ],
   "source": [
    "# summing along axes \n",
    "\n",
    "# sum along rows\n",
    "# operation move down the columns\n",
    "print(np.sum(arr,axis=0))\n",
    "\n",
    "# sum along columns \n",
    "# operation move across the rows \n",
    "print(np.sum(arr,axis=1))\n",
    "\n"
   ]
  },
  {
   "cell_type": "code",
   "execution_count": 5,
   "id": "42973c1a-f799-4086-8ca6-a163ab35bcf4",
   "metadata": {},
   "outputs": [
    {
     "name": "stdout",
     "output_type": "stream",
     "text": [
      "6\n",
      "[[2 3]\n",
      " [5 6]]\n"
     ]
    }
   ],
   "source": [
    "# indexing in multidimensional array \n",
    "import numpy as np \n",
    "arr = np.array([\n",
    "    [1,2,3],\n",
    "    [4,5,6],\n",
    "    [7,8,9]\n",
    "])\n",
    "\n",
    "# accesing an element \n",
    "print(arr[1,2])\n",
    "# means first row ka second columns \n",
    "\n",
    "\n",
    "# slicing \n",
    "\n",
    "print(arr[0:2,1:3])"
   ]
  },
  {
   "cell_type": "code",
   "execution_count": 7,
   "id": "4819004d-dd09-4fb4-9b64-d12484c4e717",
   "metadata": {},
   "outputs": [
    {
     "name": "stdout",
     "output_type": "stream",
     "text": [
      "[[ 1  2  3]\n",
      " [ 4  5  6]\n",
      " [ 7  8  9]\n",
      " [10 11 12]]\n",
      "(4, 3)\n"
     ]
    }
   ],
   "source": [
    "# indexing in 3d ararys \n",
    "\n",
    "arr3d = np.array ([\n",
    "    [1,2,3],\n",
    "    [4,5,6],\n",
    "    [7,8,9],\n",
    "    [10,11,12]\n",
    "])\n",
    "\n",
    "print(arr3d)\n",
    "print(arr3d.shape)\n",
    "\n"
   ]
  },
  {
   "cell_type": "code",
   "execution_count": 9,
   "id": "be6e9a8b-3f71-4c71-8851-6e8e27ca9b37",
   "metadata": {},
   "outputs": [
    {
     "name": "stdout",
     "output_type": "stream",
     "text": [
      "(2, 2, 3)\n",
      "6\n",
      "[[1 2 3]\n",
      " [7 8 9]]\n"
     ]
    }
   ],
   "source": [
    "# selecting data along axes \n",
    "\n",
    "arr3D = np.array([[[1, 2, 3], [4, 5, 6]],\n",
    "[[7, 8, 9], [10, 11, 12]]])\n",
    "# Output of arr3D.shape is → (depth, rows, columns)\n",
    "print(arr3D.shape) # Output: (2, 2, 3) \n",
    "\n",
    "print(arr3D[0,1,2])\n",
    "print(arr3D[:,0,:])\n"
   ]
  },
  {
   "cell_type": "code",
   "execution_count": null,
   "id": "d183a78c-355c-4761-93d3-d7e3ec5c47b6",
   "metadata": {},
   "outputs": [],
   "source": []
  }
 ],
 "metadata": {
  "kernelspec": {
   "display_name": "Python 3 (ipykernel)",
   "language": "python",
   "name": "python3"
  },
  "language_info": {
   "codemirror_mode": {
    "name": "ipython",
    "version": 3
   },
   "file_extension": ".py",
   "mimetype": "text/x-python",
   "name": "python",
   "nbconvert_exporter": "python",
   "pygments_lexer": "ipython3",
   "version": "3.12.7"
  }
 },
 "nbformat": 4,
 "nbformat_minor": 5
}
