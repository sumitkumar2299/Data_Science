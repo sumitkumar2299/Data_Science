{
 "cells": [
  {
   "cell_type": "code",
   "execution_count": 1,
   "id": "069db12b-379b-4c5f-bea6-8bcc72a735a8",
   "metadata": {},
   "outputs": [
    {
     "name": "stdout",
     "output_type": "stream",
     "text": [
      "[1 2 3 4 5]\n",
      "[[1 2 3]\n",
      " [4 5 6]]\n"
     ]
    }
   ],
   "source": [
    "# creating numpy array \n",
    "\n",
    "import numpy as np\n",
    "arr1 = np.array([1,2,3,4,5])\n",
    "print(arr1)\n",
    "\n",
    "arr2 = np.array([[1,2,3],[4,5,6]])\n",
    "print(arr2)"
   ]
  },
  {
   "cell_type": "code",
   "execution_count": 12,
   "id": "5df5d022-79b0-45ed-8f9f-0bb95880a67f",
   "metadata": {},
   "outputs": [
    {
     "name": "stdout",
     "output_type": "stream",
     "text": [
      "[[0. 0. 0.]\n",
      " [0. 0. 0.]\n",
      " [0. 0. 0.]]\n",
      "[[1. 1. 1. 1.]\n",
      " [1. 1. 1. 1.]]\n",
      "[[7 7]\n",
      " [7 7]]\n",
      "[[1. 0. 0. 0.]\n",
      " [0. 1. 0. 0.]\n",
      " [0. 0. 1. 0.]\n",
      " [0. 0. 0. 1.]]\n",
      "[1 3 5 7 9]\n",
      "[0.   0.25 0.5  0.75 1.  ]\n"
     ]
    }
   ],
   "source": [
    "# creating arrays from scratch \n",
    "import numpy as np\n",
    "x = np.zeros((3,3))\n",
    "print(x)\n",
    "\n",
    "\n",
    "# 2*4 array of ones \n",
    "y = np.ones((2,4))\n",
    "print(y)\n",
    "\n",
    "# 2*2 array filled with 7 \n",
    "z = np.full((2,2),7)\n",
    "print(z)\n",
    "\n",
    "\n",
    "# identity matrix \n",
    "a = np.eye(4) \n",
    "print(a)\n",
    "\n",
    "# like range \n",
    "b = np.arange(1,10,2)\n",
    "print(b)\n",
    "\n",
    "# evenly spaced \n",
    "c = np.linspace(0,1,5)\n",
    "print(c)"
   ]
  },
  {
   "cell_type": "code",
   "execution_count": 16,
   "id": "c51e1feb-1fa0-434d-8bf0-d748aa0c7b48",
   "metadata": {},
   "outputs": [
    {
     "name": "stdout",
     "output_type": "stream",
     "text": [
      "shape is (3, 3)\n",
      "size is:  9\n",
      "dimension is 2\n",
      "data type int32\n"
     ]
    }
   ],
   "source": [
    "# checking array properties \n",
    "\n",
    "arr = np.array([[10,20,30],[40,50,60],[70,80,90]])\n",
    "print(\"shape is\",arr.shape)\n",
    "print(\"size is: \", arr.size)\n",
    "print(\"dimension is\",arr.ndim)\n",
    "print(\"data type\",arr.dtype)"
   ]
  },
  {
   "cell_type": "code",
   "execution_count": 18,
   "id": "766a0a95-7977-4498-8940-22fc24d317d0",
   "metadata": {},
   "outputs": [
    {
     "name": "stdout",
     "output_type": "stream",
     "text": [
      "float32\n",
      "[1 2 3]\n"
     ]
    }
   ],
   "source": [
    "# changing data type \n",
    "arr = np.array([1,2,3],dtype = np.float32)\n",
    "print(arr.dtype)\n",
    "\n",
    "# convert float to int \n",
    "arr_int = arr.astype(np.int32)\n",
    "print(arr_int)"
   ]
  },
  {
   "cell_type": "code",
   "execution_count": 22,
   "id": "1f894b5d-d084-42a9-b26d-4424f20d9710",
   "metadata": {},
   "outputs": [
    {
     "name": "stdout",
     "output_type": "stream",
     "text": [
      "(2, 3)\n",
      "[[1 2]\n",
      " [3 4]\n",
      " [5 6]]\n",
      "[1 2 3 4 5 6]\n"
     ]
    }
   ],
   "source": [
    "# reshaping and flattening of an array \n",
    "\n",
    "arr = np.array([[1,2,3],[4,5,6]])\n",
    "print(arr.shape)\n",
    "\n",
    "\n",
    "# change shape \n",
    "reshaped = arr.reshape((3,2))\n",
    "print(reshaped)\n",
    "\n",
    "# convert 2d to 1d \n",
    "flattened = arr.flatten()\n",
    "print(flattened)"
   ]
  },
  {
   "cell_type": "code",
   "execution_count": null,
   "id": "51952cdf-552d-48ad-9516-1362d1e0c671",
   "metadata": {},
   "outputs": [],
   "source": []
  }
 ],
 "metadata": {
  "kernelspec": {
   "display_name": "Python 3 (ipykernel)",
   "language": "python",
   "name": "python3"
  },
  "language_info": {
   "codemirror_mode": {
    "name": "ipython",
    "version": 3
   },
   "file_extension": ".py",
   "mimetype": "text/x-python",
   "name": "python",
   "nbconvert_exporter": "python",
   "pygments_lexer": "ipython3",
   "version": "3.12.7"
  }
 },
 "nbformat": 4,
 "nbformat_minor": 5
}
