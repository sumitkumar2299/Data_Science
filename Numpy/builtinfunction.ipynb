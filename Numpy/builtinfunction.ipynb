{
 "cells": [
  {
   "cell_type": "code",
   "execution_count": 3,
   "id": "2e95ea0f-487e-43a6-91f9-3c618ae34c32",
   "metadata": {},
   "outputs": [
    {
     "ename": "NameError",
     "evalue": "name 'arr' is not defined",
     "output_type": "error",
     "traceback": [
      "\u001b[1;31m---------------------------------------------------------------------------\u001b[0m",
      "\u001b[1;31mNameError\u001b[0m                                 Traceback (most recent call last)",
      "Cell \u001b[1;32mIn[3], line 3\u001b[0m\n\u001b[0;32m      1\u001b[0m \u001b[38;5;66;03m# some common numpy method that are frequently used \u001b[39;00m\n\u001b[0;32m      2\u001b[0m \u001b[38;5;28;01mimport\u001b[39;00m \u001b[38;5;21;01mnumpy\u001b[39;00m \u001b[38;5;28;01mas\u001b[39;00m \u001b[38;5;21;01mnp\u001b[39;00m\n\u001b[1;32m----> 3\u001b[0m np\u001b[38;5;241m.\u001b[39mmean(arr)\n\u001b[0;32m      4\u001b[0m np\u001b[38;5;241m.\u001b[39mstd(arr)\n\u001b[0;32m      5\u001b[0m np\u001b[38;5;241m.\u001b[39mvar(arr)\n",
      "\u001b[1;31mNameError\u001b[0m: name 'arr' is not defined"
     ]
    }
   ],
   "source": [
    "# some common numpy method that are frequently used \n",
    "import numpy as np\n",
    "np.mean(arr)\n",
    "np.std(arr)\n",
    "np.var(arr)\n",
    "np.min(arr)\n",
    "np.max(arr)\n",
    "np.sum(arr)\n",
    "np.prod(arr)\n",
    "np.median(arr)\n",
    "# for the 50th percentile \n",
    "np.percentile(arr,50) \n",
    "np.argmax(arr)\n",
    "np.correcoef(arr1,arr2)\n",
    "np.unique(arr)\n",
    "np.diff(arr)\n",
    "np.cumsum(arr)\n",
    "np.linespace(0,10,5)\n",
    "np.log(arr)\n",
    "np.exp(arr)"
   ]
  },
  {
   "cell_type": "code",
   "execution_count": null,
   "id": "a47eb9ce-8fe1-4085-bc2c-6ee288536a1e",
   "metadata": {},
   "outputs": [],
   "source": []
  }
 ],
 "metadata": {
  "kernelspec": {
   "display_name": "Python 3 (ipykernel)",
   "language": "python",
   "name": "python3"
  },
  "language_info": {
   "codemirror_mode": {
    "name": "ipython",
    "version": 3
   },
   "file_extension": ".py",
   "mimetype": "text/x-python",
   "name": "python",
   "nbconvert_exporter": "python",
   "pygments_lexer": "ipython3",
   "version": "3.12.7"
  }
 },
 "nbformat": 4,
 "nbformat_minor": 5
}
