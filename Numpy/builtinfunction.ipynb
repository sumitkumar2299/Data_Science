{
 "cells": [
  {
   "cell_type": "code",
   "execution_count": 2,
   "id": "2e95ea0f-487e-43a6-91f9-3c618ae34c32",
   "metadata": {},
   "outputs": [
    {
     "ename": "SyntaxError",
     "evalue": "invalid syntax (2186958447.py, line 2)",
     "output_type": "error",
     "traceback": [
      "\u001b[1;36m  Cell \u001b[1;32mIn[2], line 2\u001b[1;36m\u001b[0m\n\u001b[1;33m    imprt numpy as np\u001b[0m\n\u001b[1;37m          ^\u001b[0m\n\u001b[1;31mSyntaxError\u001b[0m\u001b[1;31m:\u001b[0m invalid syntax\n"
     ]
    }
   ],
   "source": [
    "# some common numpy method that are frequently used \n",
    "import numpy as np\n",
    "np.mean(arr)\n",
    "np.std(arr)\n",
    "np.var(arr)\n",
    "np.min(arr)\n",
    "np.max(arr)\n",
    "np.sum(arr)\n",
    "np.prod(arr)\n",
    "np.median(arr)\n",
    "# for the 50th percentile \n",
    "np.percentile(arr,50) \n",
    "np.argmax(arr)\n",
    "np.correcoef(arr1,arr2)\n",
    "np.unique(arr)\n",
    "np.diff(arr)\n",
    "np.cumsum(arr)\n",
    "np.linespace(0,10,5)\n",
    "np.log(arr)\n",
    "np.exp(arr)"
   ]
  },
  {
   "cell_type": "code",
   "execution_count": null,
   "id": "a47eb9ce-8fe1-4085-bc2c-6ee288536a1e",
   "metadata": {},
   "outputs": [],
   "source": []
  }
 ],
 "metadata": {
  "kernelspec": {
   "display_name": "Python 3 (ipykernel)",
   "language": "python",
   "name": "python3"
  },
  "language_info": {
   "codemirror_mode": {
    "name": "ipython",
    "version": 3
   },
   "file_extension": ".py",
   "mimetype": "text/x-python",
   "name": "python",
   "nbconvert_exporter": "python",
   "pygments_lexer": "ipython3",
   "version": "3.12.7"
  }
 },
 "nbformat": 4,
 "nbformat_minor": 5
}
