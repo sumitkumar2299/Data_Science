{
 "cells": [
  {
   "cell_type": "code",
   "execution_count": 2,
   "id": "bd7991f0-569c-4907-99b8-e72132ea7d0e",
   "metadata": {},
   "outputs": [
    {
     "name": "stdout",
     "output_type": "stream",
     "text": [
      "10\n",
      "30\n"
     ]
    }
   ],
   "source": [
    "# indexing and slicing \n",
    "\n",
    "import numpy as np \n",
    "\n",
    "arr = np.array([10,20,30])\n",
    "print(arr[0])\n",
    "# from the last \n",
    "print(arr[-1])"
   ]
  },
  {
   "cell_type": "code",
   "execution_count": 5,
   "id": "de4571ad-fbc6-4d4a-87b7-d18923a73ece",
   "metadata": {},
   "outputs": [
    {
     "name": "stdout",
     "output_type": "stream",
     "text": [
      "[20 30 40]\n",
      "[10 20 30]\n",
      "[10 30 50]\n"
     ]
    }
   ],
   "source": [
    "# slicing -> extracting parts of an array \n",
    "\n",
    "arr = np.array([10,20,30,40,50])\n",
    "\n",
    "# slice from index 1 to 3 \n",
    "print(arr[1:4])\n",
    "# first 3 element \n",
    "print(arr[:3])\n",
    "# every second element \n",
    "print(arr[::2])\n",
    "\n",
    "\n",
    "\n",
    "# important points \n",
    "# Jo changes aap sliced array me karoge, wo original array me bhi reflect honge\n",
    "# Agar changes ka impact nahi chahiye, toh .copy() ka use karo.\n",
    "\n",
    "\n"
   ]
  },
  {
   "cell_type": "code",
   "execution_count": 7,
   "id": "8aecb262-dbb7-4ba0-b76b-4a80e01b401c",
   "metadata": {},
   "outputs": [
    {
     "name": "stdout",
     "output_type": "stream",
     "text": [
      "[10 30 50]\n",
      "[30 40 50]\n"
     ]
    }
   ],
   "source": [
    "# fancy indexing and boolean masking \n",
    "\n",
    "\n",
    "# fancy indexing \n",
    "arr = np.array([10,20,30,40,50])\n",
    "idx = [0,2,4]\n",
    "print(arr[idx])\n",
    "\n",
    "\n",
    "# boolean masking \n",
    "arr = np.array([10,20,30,40,50])\n",
    "# condition : values greater than 25\n",
    "mask = arr>25\n",
    "print(arr[mask])\n"
   ]
  },
  {
   "cell_type": "code",
   "execution_count": null,
   "id": "45059a94-6be4-4362-9eb7-5a9be6368e28",
   "metadata": {},
   "outputs": [],
   "source": []
  }
 ],
 "metadata": {
  "kernelspec": {
   "display_name": "Python 3 (ipykernel)",
   "language": "python",
   "name": "python3"
  },
  "language_info": {
   "codemirror_mode": {
    "name": "ipython",
    "version": 3
   },
   "file_extension": ".py",
   "mimetype": "text/x-python",
   "name": "python",
   "nbconvert_exporter": "python",
   "pygments_lexer": "ipython3",
   "version": "3.12.7"
  }
 },
 "nbformat": 4,
 "nbformat_minor": 5
}
