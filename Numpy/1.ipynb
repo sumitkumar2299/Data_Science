{
 "cells": [
  {
   "cell_type": "code",
   "execution_count": 12,
   "id": "d28aa64e-b9f7-4677-bb67-48480d3018bf",
   "metadata": {},
   "outputs": [
    {
     "name": "stdout",
     "output_type": "stream",
     "text": [
      "python list addition time is: 0.008420228958129883\n",
      "numpy array addition time 0.002013683319091797\n"
     ]
    }
   ],
   "source": [
    "# numpy vs python list \n",
    "\n",
    "import numpy as np \n",
    "import time \n",
    "\n",
    "# python list \n",
    "\n",
    "size = 100000\n",
    "list1 = list(range(size))\n",
    "list2  = list(range(size))\n",
    "\n",
    "start = time.time()\n",
    "result = [x+y for x,y in zip(list1,list2)]\n",
    "end = time.time()\n",
    "print(\"python list addition time is:\",end-start)\n",
    "\n",
    "\n",
    "# numpy array \n",
    "\n",
    "arr1 = np.array(list1)\n",
    "arr2 = np.array(list2)\n",
    "\n",
    "start = time.time()\n",
    "result = arr1+arr2 \n",
    "# this is vectorized operation \n",
    "\n",
    "end = time.time()\n",
    "print(\"numpy array addition time\", end-start)\n",
    "\n",
    "\n",
    "# numpy is significantly faster because it performs operations in c avoiding python in loops \n",
    "\n",
    "\n",
    "\n"
   ]
  },
  {
   "cell_type": "code",
   "execution_count": 6,
   "id": "b3d3fdd1-edc9-4057-b70c-899d3be35f0f",
   "metadata": {},
   "outputs": [
    {
     "name": "stdout",
     "output_type": "stream",
     "text": [
      "[1 2 3 4 5]\n",
      "[[1 2 3]\n",
      " [4 5 6]]\n",
      "type <class 'numpy.ndarray'>\n",
      "type (2, 3)\n"
     ]
    }
   ],
   "source": [
    "# creating numpy arrays \n",
    "\n",
    "# creating a 1d numpy array \n",
    "arr1 = np.array([1,2,3,4,5])\n",
    "print(arr1)\n",
    "\n",
    "# creating a 2d numpy array \n",
    "\n",
    "arr2 = np.array([[1,2,3],[4,5,6]])\n",
    "print(arr2)\n",
    "\n",
    "\n",
    "# checking type and shape \n",
    "\n",
    "print(\"type\", type(arr1))\n",
    "print(\"type\",arr2.shape)"
   ]
  },
  {
   "cell_type": "code",
   "execution_count": 7,
   "id": "a9f7af2b-914d-41f8-88a0-afff88954aed",
   "metadata": {},
   "outputs": [
    {
     "name": "stdout",
     "output_type": "stream",
     "text": [
      "python list size: 8056000 bytes\n",
      "numpy array size:: 4000 bytes\n"
     ]
    }
   ],
   "source": [
    "# memory efficiency - numpy vs list \n",
    "# numpy array use significantly less memory compared to python list \n",
    "\n",
    "list_data = list(range(1000))\n",
    "numpy_data  = np.array(list_data)\n",
    "\n",
    "print(\"python list size:\",sys.getsizeof(list_data)*len(list_data),\"bytes\")\n",
    "print(\"numpy array size::\",numpy_data.nbytes,\"bytes\")"
   ]
  },
  {
   "cell_type": "code",
   "execution_count": 11,
   "id": "b0a2af2b-5116-4430-a1f7-3b0a95a32587",
   "metadata": {},
   "outputs": [
    {
     "ename": "TypeError",
     "evalue": "unsupported operand type(s) for ** or pow(): 'list' and 'int'",
     "output_type": "error",
     "traceback": [
      "\u001b[1;31m---------------------------------------------------------------------------\u001b[0m",
      "\u001b[1;31mTypeError\u001b[0m                                 Traceback (most recent call last)",
      "Cell \u001b[1;32mIn[11], line 9\u001b[0m\n\u001b[0;32m      5\u001b[0m list_squares \u001b[38;5;241m=\u001b[39m [x\u001b[38;5;241m*\u001b[39m\u001b[38;5;241m*\u001b[39m \u001b[38;5;241m2\u001b[39m \u001b[38;5;28;01mfor\u001b[39;00m x \u001b[38;5;129;01min\u001b[39;00m list1]\n\u001b[0;32m      7\u001b[0m \u001b[38;5;66;03m# in numpy \u001b[39;00m\n\u001b[1;32m----> 9\u001b[0m numpy_squares \u001b[38;5;241m=\u001b[39m arr1\u001b[38;5;241m*\u001b[39m\u001b[38;5;241m*\u001b[39m\u001b[38;5;241m2\u001b[39m\n",
      "\u001b[1;31mTypeError\u001b[0m: unsupported operand type(s) for ** or pow(): 'list' and 'int'"
     ]
    }
   ],
   "source": [
    "# sauaring elements \n",
    "\n",
    "# python list (loop based)\n",
    "\n",
    "list_squares = [x** 2 for x in list1]\n",
    "\n",
    "# in numpy \n",
    "\n",
    "numpy_squares = arr1**2"
   ]
  },
  {
   "cell_type": "code",
   "execution_count": null,
   "id": "5ca45978-c716-46f4-9beb-a38210fbabd9",
   "metadata": {},
   "outputs": [],
   "source": []
  },
  {
   "cell_type": "code",
   "execution_count": null,
   "id": "b86d9b82-8185-4dd6-a3a9-3d6aae0d2c1d",
   "metadata": {},
   "outputs": [],
   "source": []
  }
 ],
 "metadata": {
  "kernelspec": {
   "display_name": "Python 3 (ipykernel)",
   "language": "python",
   "name": "python3"
  },
  "language_info": {
   "codemirror_mode": {
    "name": "ipython",
    "version": 3
   },
   "file_extension": ".py",
   "mimetype": "text/x-python",
   "name": "python",
   "nbconvert_exporter": "python",
   "pygments_lexer": "ipython3",
   "version": "3.12.7"
  }
 },
 "nbformat": 4,
 "nbformat_minor": 5
}
