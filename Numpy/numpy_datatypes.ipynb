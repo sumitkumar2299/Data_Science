{
 "cells": [
  {
   "cell_type": "code",
   "execution_count": 1,
   "id": "5fe77a58-ea0e-44cf-9f7b-128cd6f879c4",
   "metadata": {},
   "outputs": [
    {
     "name": "stdout",
     "output_type": "stream",
     "text": [
      "int32\n"
     ]
    }
   ],
   "source": [
    "# numpy data types \n",
    "\n",
    "# ṇumpy data types are homogenous. \n",
    "\n",
    "import numpy as np\n",
    "\n",
    "arr = np.array([1,2,3,4,5])\n",
    "print(arr.dtype)"
   ]
  },
  {
   "cell_type": "code",
   "execution_count": 2,
   "id": "b3ae50cf-b31c-4b4a-99dd-524db9323924",
   "metadata": {},
   "outputs": [
    {
     "name": "stdout",
     "output_type": "stream",
     "text": [
      "float64\n",
      "[1 2 3]\n",
      "int32\n"
     ]
    }
   ],
   "source": [
    "# changing data types \n",
    "\n",
    "arr = np.array([1.5,2.7,3.9])\n",
    "print(arr.dtype)\n",
    "\n",
    "\n",
    "# converting float to int \n",
    "arr_int = arr.astype(np.int32)\n",
    "print(arr_int)\n",
    "print(arr_int.dtype)"
   ]
  },
  {
   "cell_type": "code",
   "execution_count": 3,
   "id": "be920ad8-50b3-406c-848c-74e8597b7501",
   "metadata": {},
   "outputs": [
    {
     "name": "stdout",
     "output_type": "stream",
     "text": [
      "[ 100000 2000000 3000000]\n",
      "int32\n"
     ]
    }
   ],
   "source": [
    "# downcasting to save memory\n",
    "# downcastign -> jab hum ek bade data type ko chote datatype mein convert karte hai \n",
    "\n",
    "\n",
    "arr_large = np.array([100000,2000000,3000000])\n",
    "# downcasting of a similar data type \n",
    "arr_small = arr_large.astype(np.int32)\n",
    "\n",
    "print(arr_small)\n",
    "print(arr_small.dtype)\n"
   ]
  },
  {
   "cell_type": "code",
   "execution_count": null,
   "id": "c54e461c-ba55-4583-a326-161fa9a804e9",
   "metadata": {},
   "outputs": [],
   "source": [
    "# why data types matter in numpy \n",
    "# memoty usage \n",
    "# performance \n",
    "# precision \n"
   ]
  },
  {
   "cell_type": "code",
   "execution_count": 4,
   "id": "7fb5f552-f0bb-413c-87a4-f9b73d1cc563",
   "metadata": {},
   "outputs": [
    {
     "name": "stdout",
     "output_type": "stream",
     "text": [
      "['apple' 'banana' 'carrot']\n"
     ]
    }
   ],
   "source": [
    "# string data type in numpy \n",
    "# u10 means har string 10 character tak ho sakti hai \n",
    "arr = np.array([\"apple\",\"banana\",\"carrot\"],dtype=\"U10\")\n",
    "print(arr)\n"
   ]
  },
  {
   "cell_type": "code",
   "execution_count": 5,
   "id": "92f55278-d1e4-4f85-887b-64c6d519b609",
   "metadata": {},
   "outputs": [
    {
     "name": "stdout",
     "output_type": "stream",
     "text": [
      "[1.+3.j 3.+4.j 5.+6.j]\n"
     ]
    }
   ],
   "source": [
    "# complex numbers \n",
    "\n",
    "arr = np.array([1+3j,3+4j,5+6j],dtype= \"complex128\")\n",
    "print(arr)"
   ]
  },
  {
   "cell_type": "code",
   "execution_count": 8,
   "id": "b864b14e-d28c-4818-aab0-e67fc64b1739",
   "metadata": {},
   "outputs": [
    {
     "name": "stdout",
     "output_type": "stream",
     "text": [
      "[{'a': 1} list([1, 2, 3]) 'hello']\n"
     ]
    }
   ],
   "source": [
    "# object data type \n",
    "\n",
    "arr = np.array([{'a':1},[1,2,3],\"hello\"],dtype=object)\n",
    "print(arr)\n"
   ]
  },
  {
   "cell_type": "code",
   "execution_count": null,
   "id": "088325f6-b598-4b6e-853f-272dbbd47c93",
   "metadata": {},
   "outputs": [],
   "source": [
    "# choosing write datatypes helps us in: \n",
    "# optimizing memory\n",
    "# .improving performance\n",
    "# ensuring performance\n"
   ]
  },
  {
   "cell_type": "code",
   "execution_count": null,
   "id": "0f306307-3a8a-4e6e-b309-5ccf1bb194d2",
   "metadata": {},
   "outputs": [],
   "source": []
  }
 ],
 "metadata": {
  "kernelspec": {
   "display_name": "Python 3 (ipykernel)",
   "language": "python",
   "name": "python3"
  },
  "language_info": {
   "codemirror_mode": {
    "name": "ipython",
    "version": 3
   },
   "file_extension": ".py",
   "mimetype": "text/x-python",
   "name": "python",
   "nbconvert_exporter": "python",
   "pygments_lexer": "ipython3",
   "version": "3.12.7"
  }
 },
 "nbformat": 4,
 "nbformat_minor": 5
}
