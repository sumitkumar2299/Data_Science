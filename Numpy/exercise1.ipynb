{
 "cells": [
  {
   "cell_type": "code",
   "execution_count": 4,
   "id": "795629a6-3d51-4854-aaf7-12e8a6f9fe3c",
   "metadata": {},
   "outputs": [
    {
     "name": "stdout",
     "output_type": "stream",
     "text": [
      "shape is  (2, 5)\n",
      "shape is  (9,)\n"
     ]
    }
   ],
   "source": [
    "import numpy as np \n",
    "\n",
    "arr1 = np.array([[10,20,30,40,50],[60,70,80,90,100]])\n",
    "print(\"shape is \", arr1.shape)\n",
    "\n",
    "\n",
    "arr2 = np.array([1,2,3,4,5,6,7,8,9])\n",
    "print(\"shape is \" , arr2.shape)\n"
   ]
  },
  {
   "cell_type": "code",
   "execution_count": 14,
   "id": "d5ba3f2d-b241-47be-8d18-133403e83e31",
   "metadata": {},
   "outputs": [
    {
     "name": "stdout",
     "output_type": "stream",
     "text": [
      "time taken by list 0.0\n",
      "time taken by array 0.0\n"
     ]
    }
   ],
   "source": [
    "# compare time taken to multiply two python lists vs two numpy arrays \n",
    "\n",
    "import numpy as np \n",
    "import time \n",
    "list1 = [5,6,7,8]\n",
    "list2 = [7,8,9.7]\n",
    "start = time.time()\n",
    "# multiplication of list in python \n",
    "result = [a * b for a, b in zip(list1, list2)]\n",
    "end = time.time();\n",
    "\n",
    "arr1 = np.array([1,2,3,4,5])\n",
    "arr2 = np.array([1,2,3,4,6])\n",
    "start = time.time()\n",
    "y = arr1*arr2\n",
    "end = time.time()\n",
    "\n",
    "print(\"time taken by list\",end-start)\n",
    "print(\"time taken by array\",end-start)"
   ]
  },
  {
   "cell_type": "code",
   "execution_count": null,
   "id": "2f53a6c2-a1de-419c-a191-aaeccfe17a48",
   "metadata": {},
   "outputs": [],
   "source": [
    "# Find the memory size of a NumPy array with 1 million elements.\n",
    "\n",
    "\n",
    "\n",
    "\n"
   ]
  },
  {
   "cell_type": "code",
   "execution_count": null,
   "id": "060baa9b-3fa5-4f7c-9259-c140640e772b",
   "metadata": {},
   "outputs": [],
   "source": []
  }
 ],
 "metadata": {
  "kernelspec": {
   "display_name": "Python 3 (ipykernel)",
   "language": "python",
   "name": "python3"
  },
  "language_info": {
   "codemirror_mode": {
    "name": "ipython",
    "version": 3
   },
   "file_extension": ".py",
   "mimetype": "text/x-python",
   "name": "python",
   "nbconvert_exporter": "python",
   "pygments_lexer": "ipython3",
   "version": "3.12.7"
  }
 },
 "nbformat": 4,
 "nbformat_minor": 5
}
