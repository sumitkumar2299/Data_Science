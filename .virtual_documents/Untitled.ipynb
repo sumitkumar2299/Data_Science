print("hello")


 x = 2
print(x)



